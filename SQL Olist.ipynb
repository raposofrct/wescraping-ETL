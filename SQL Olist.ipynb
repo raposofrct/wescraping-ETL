{
 "cells": [
  {
   "cell_type": "code",
   "execution_count": 27,
   "id": "5068016f",
   "metadata": {
    "ExecuteTime": {
     "end_time": "2021-11-11T14:10:58.074398Z",
     "start_time": "2021-11-11T14:10:58.069298Z"
    }
   },
   "outputs": [],
   "source": [
    "import sqlalchemy as sq\n",
    "import pandas as pd\n",
    "\n",
    "db = sq.create_engine('sqlite:///olists_db.sqlite',echo=False)\n",
    "conn = db.connect()"
   ]
  },
  {
   "cell_type": "markdown",
   "id": "6bcbc8b9",
   "metadata": {},
   "source": [
    "# Costumer Dataset"
   ]
  },
  {
   "cell_type": "code",
   "execution_count": 28,
   "id": "1e39d7a8",
   "metadata": {
    "ExecuteTime": {
     "end_time": "2021-11-11T14:11:01.752413Z",
     "start_time": "2021-11-11T14:11:01.624541Z"
    }
   },
   "outputs": [
    {
     "data": {
      "text/plain": [
       "<sqlalchemy.engine.cursor.LegacyCursorResult at 0x164c78f70>"
      ]
     },
     "execution_count": 28,
     "metadata": {},
     "output_type": "execute_result"
    }
   ],
   "source": [
    "# Importando o df\n",
    "costumers_dataset = pd.read_csv('olist_customers_dataset.csv')\n",
    "\n",
    "# Criando a tabela\n",
    "query = \"\"\"CREATE TABLE costumers_table (\n",
    "customer_id                 TEXT,\n",
    "customer_unique_id          TEXT,\n",
    "customer_zip_code_prefix     INTEGER,\n",
    "customer_city               TEXT,\n",
    "customer_state              TEXT\n",
    ")\"\"\"\n",
    "\n",
    "conn.execute(query)"
   ]
  },
  {
   "cell_type": "code",
   "execution_count": 29,
   "id": "39c6f80c",
   "metadata": {
    "ExecuteTime": {
     "end_time": "2021-11-11T14:11:02.568671Z",
     "start_time": "2021-11-11T14:11:02.158589Z"
    }
   },
   "outputs": [],
   "source": [
    "# Exportando o df\n",
    "costumers_dataset.to_sql('costumers_table',conn,if_exists='append',index=False)"
   ]
  },
  {
   "cell_type": "code",
   "execution_count": 30,
   "id": "e93d3e2b",
   "metadata": {
    "ExecuteTime": {
     "end_time": "2021-11-11T14:11:02.971628Z",
     "start_time": "2021-11-11T14:11:02.716568Z"
    }
   },
   "outputs": [
    {
     "data": {
      "text/html": [
       "<div>\n",
       "<style scoped>\n",
       "    .dataframe tbody tr th:only-of-type {\n",
       "        vertical-align: middle;\n",
       "    }\n",
       "\n",
       "    .dataframe tbody tr th {\n",
       "        vertical-align: top;\n",
       "    }\n",
       "\n",
       "    .dataframe thead th {\n",
       "        text-align: right;\n",
       "    }\n",
       "</style>\n",
       "<table border=\"1\" class=\"dataframe\">\n",
       "  <thead>\n",
       "    <tr style=\"text-align: right;\">\n",
       "      <th></th>\n",
       "      <th>customer_id</th>\n",
       "      <th>customer_unique_id</th>\n",
       "      <th>customer_zip_code_prefix</th>\n",
       "      <th>customer_city</th>\n",
       "      <th>customer_state</th>\n",
       "    </tr>\n",
       "  </thead>\n",
       "  <tbody>\n",
       "    <tr>\n",
       "      <th>0</th>\n",
       "      <td>06b8999e2fba1a1fbc88172c00ba8bc7</td>\n",
       "      <td>861eff4711a542e4b93843c6dd7febb0</td>\n",
       "      <td>14409</td>\n",
       "      <td>franca</td>\n",
       "      <td>SP</td>\n",
       "    </tr>\n",
       "    <tr>\n",
       "      <th>1</th>\n",
       "      <td>18955e83d337fd6b2def6b18a428ac77</td>\n",
       "      <td>290c77bc529b7ac935b93aa66c333dc3</td>\n",
       "      <td>9790</td>\n",
       "      <td>sao bernardo do campo</td>\n",
       "      <td>SP</td>\n",
       "    </tr>\n",
       "    <tr>\n",
       "      <th>2</th>\n",
       "      <td>4e7b3e00288586ebd08712fdd0374a03</td>\n",
       "      <td>060e732b5b29e8181a18229c7b0b2b5e</td>\n",
       "      <td>1151</td>\n",
       "      <td>sao paulo</td>\n",
       "      <td>SP</td>\n",
       "    </tr>\n",
       "    <tr>\n",
       "      <th>3</th>\n",
       "      <td>b2b6027bc5c5109e529d4dc6358b12c3</td>\n",
       "      <td>259dac757896d24d7702b9acbbff3f3c</td>\n",
       "      <td>8775</td>\n",
       "      <td>mogi das cruzes</td>\n",
       "      <td>SP</td>\n",
       "    </tr>\n",
       "    <tr>\n",
       "      <th>4</th>\n",
       "      <td>4f2d8ab171c80ec8364f7c12e35b23ad</td>\n",
       "      <td>345ecd01c38d18a9036ed96c73b8d066</td>\n",
       "      <td>13056</td>\n",
       "      <td>campinas</td>\n",
       "      <td>SP</td>\n",
       "    </tr>\n",
       "  </tbody>\n",
       "</table>\n",
       "</div>"
      ],
      "text/plain": [
       "                        customer_id                customer_unique_id  \\\n",
       "0  06b8999e2fba1a1fbc88172c00ba8bc7  861eff4711a542e4b93843c6dd7febb0   \n",
       "1  18955e83d337fd6b2def6b18a428ac77  290c77bc529b7ac935b93aa66c333dc3   \n",
       "2  4e7b3e00288586ebd08712fdd0374a03  060e732b5b29e8181a18229c7b0b2b5e   \n",
       "3  b2b6027bc5c5109e529d4dc6358b12c3  259dac757896d24d7702b9acbbff3f3c   \n",
       "4  4f2d8ab171c80ec8364f7c12e35b23ad  345ecd01c38d18a9036ed96c73b8d066   \n",
       "\n",
       "   customer_zip_code_prefix          customer_city customer_state  \n",
       "0                     14409                 franca             SP  \n",
       "1                      9790  sao bernardo do campo             SP  \n",
       "2                      1151              sao paulo             SP  \n",
       "3                      8775        mogi das cruzes             SP  \n",
       "4                     13056               campinas             SP  "
      ]
     },
     "execution_count": 30,
     "metadata": {},
     "output_type": "execute_result"
    }
   ],
   "source": [
    "# Vendo se está tudo certo\n",
    "pd.read_sql_table('costumers_table',conn).head()"
   ]
  },
  {
   "cell_type": "markdown",
   "id": "4819e636",
   "metadata": {
    "heading_collapsed": true
   },
   "source": [
    "# Geolocation Dataset"
   ]
  },
  {
   "cell_type": "code",
   "execution_count": 31,
   "id": "7c540195",
   "metadata": {
    "ExecuteTime": {
     "end_time": "2021-11-11T14:11:03.785385Z",
     "start_time": "2021-11-11T14:11:03.779626Z"
    },
    "hidden": true
   },
   "outputs": [
    {
     "data": {
      "text/plain": [
       "<sqlalchemy.engine.cursor.LegacyCursorResult at 0x135122d90>"
      ]
     },
     "execution_count": 31,
     "metadata": {},
     "output_type": "execute_result"
    }
   ],
   "source": [
    "conn.execute(\"\"\"CREATE TABLE geolocation_table (\n",
    "geolocation_zip_code_prefix      INTEGER,\n",
    "geolocation_lat                REAL,\n",
    "geolocation_lng                REAL,\n",
    "geolocation_city                TEXT,\n",
    "geolocation_state               TEXT\n",
    ")\"\"\")"
   ]
  },
  {
   "cell_type": "code",
   "execution_count": 32,
   "id": "3be64cad",
   "metadata": {
    "ExecuteTime": {
     "end_time": "2021-11-11T14:11:07.770361Z",
     "start_time": "2021-11-11T14:11:04.132896Z"
    },
    "hidden": true
   },
   "outputs": [],
   "source": [
    "geolocation_dataset = pd.read_csv('olist_geolocation_dataset.csv')\n",
    "geolocation_dataset.to_sql('geolocation_table',conn,if_exists='append',index=False)"
   ]
  },
  {
   "cell_type": "code",
   "execution_count": 33,
   "id": "638dc575",
   "metadata": {
    "ExecuteTime": {
     "end_time": "2021-11-11T14:11:09.701020Z",
     "start_time": "2021-11-11T14:11:07.771242Z"
    },
    "hidden": true
   },
   "outputs": [
    {
     "data": {
      "text/html": [
       "<div>\n",
       "<style scoped>\n",
       "    .dataframe tbody tr th:only-of-type {\n",
       "        vertical-align: middle;\n",
       "    }\n",
       "\n",
       "    .dataframe tbody tr th {\n",
       "        vertical-align: top;\n",
       "    }\n",
       "\n",
       "    .dataframe thead th {\n",
       "        text-align: right;\n",
       "    }\n",
       "</style>\n",
       "<table border=\"1\" class=\"dataframe\">\n",
       "  <thead>\n",
       "    <tr style=\"text-align: right;\">\n",
       "      <th></th>\n",
       "      <th>geolocation_zip_code_prefix</th>\n",
       "      <th>geolocation_lat</th>\n",
       "      <th>geolocation_lng</th>\n",
       "      <th>geolocation_city</th>\n",
       "      <th>geolocation_state</th>\n",
       "    </tr>\n",
       "  </thead>\n",
       "  <tbody>\n",
       "    <tr>\n",
       "      <th>0</th>\n",
       "      <td>1037</td>\n",
       "      <td>-23.545621</td>\n",
       "      <td>-46.639292</td>\n",
       "      <td>sao paulo</td>\n",
       "      <td>SP</td>\n",
       "    </tr>\n",
       "    <tr>\n",
       "      <th>1</th>\n",
       "      <td>1046</td>\n",
       "      <td>-23.546081</td>\n",
       "      <td>-46.644820</td>\n",
       "      <td>sao paulo</td>\n",
       "      <td>SP</td>\n",
       "    </tr>\n",
       "    <tr>\n",
       "      <th>2</th>\n",
       "      <td>1046</td>\n",
       "      <td>-23.546129</td>\n",
       "      <td>-46.642951</td>\n",
       "      <td>sao paulo</td>\n",
       "      <td>SP</td>\n",
       "    </tr>\n",
       "    <tr>\n",
       "      <th>3</th>\n",
       "      <td>1041</td>\n",
       "      <td>-23.544392</td>\n",
       "      <td>-46.639499</td>\n",
       "      <td>sao paulo</td>\n",
       "      <td>SP</td>\n",
       "    </tr>\n",
       "    <tr>\n",
       "      <th>4</th>\n",
       "      <td>1035</td>\n",
       "      <td>-23.541578</td>\n",
       "      <td>-46.641607</td>\n",
       "      <td>sao paulo</td>\n",
       "      <td>SP</td>\n",
       "    </tr>\n",
       "  </tbody>\n",
       "</table>\n",
       "</div>"
      ],
      "text/plain": [
       "   geolocation_zip_code_prefix  geolocation_lat  geolocation_lng  \\\n",
       "0                         1037       -23.545621       -46.639292   \n",
       "1                         1046       -23.546081       -46.644820   \n",
       "2                         1046       -23.546129       -46.642951   \n",
       "3                         1041       -23.544392       -46.639499   \n",
       "4                         1035       -23.541578       -46.641607   \n",
       "\n",
       "  geolocation_city geolocation_state  \n",
       "0        sao paulo                SP  \n",
       "1        sao paulo                SP  \n",
       "2        sao paulo                SP  \n",
       "3        sao paulo                SP  \n",
       "4        sao paulo                SP  "
      ]
     },
     "execution_count": 33,
     "metadata": {},
     "output_type": "execute_result"
    }
   ],
   "source": [
    "pd.read_sql_table('geolocation_table',conn).head()"
   ]
  },
  {
   "cell_type": "markdown",
   "id": "dfe02133",
   "metadata": {
    "ExecuteTime": {
     "end_time": "2021-11-05T20:45:07.971872Z",
     "start_time": "2021-11-05T20:45:07.824469Z"
    },
    "heading_collapsed": true
   },
   "source": [
    "# Order Itens Dataset"
   ]
  },
  {
   "cell_type": "code",
   "execution_count": 34,
   "id": "e3d27223",
   "metadata": {
    "ExecuteTime": {
     "end_time": "2021-11-11T14:11:09.704834Z",
     "start_time": "2021-11-11T14:11:09.702139Z"
    },
    "hidden": true
   },
   "outputs": [
    {
     "data": {
      "text/plain": [
       "<sqlalchemy.engine.cursor.LegacyCursorResult at 0x164ff7dc0>"
      ]
     },
     "execution_count": 34,
     "metadata": {},
     "output_type": "execute_result"
    }
   ],
   "source": [
    "conn.execute(\"\"\"CREATE TABLE order_items_table (\n",
    "order_id                TEXT,\n",
    "order_item_id            INTEGER,\n",
    "product_id              TEXT,\n",
    "seller_id               TEXT,\n",
    "shipping_limit_date     TEXT,\n",
    "price                  REAL,\n",
    "freight_value          REAL\n",
    ")\"\"\")"
   ]
  },
  {
   "cell_type": "code",
   "execution_count": 35,
   "id": "94f1003f",
   "metadata": {
    "ExecuteTime": {
     "end_time": "2021-11-11T14:11:10.257255Z",
     "start_time": "2021-11-11T14:11:09.705816Z"
    },
    "hidden": true
   },
   "outputs": [],
   "source": [
    "olist_order_items_dataset = pd.read_csv('olist_order_items_dataset.csv')\n",
    "olist_order_items_dataset.to_sql('order_items_table',conn,if_exists='append',index=False)"
   ]
  },
  {
   "cell_type": "code",
   "execution_count": 36,
   "id": "fc532dcc",
   "metadata": {
    "ExecuteTime": {
     "end_time": "2021-11-11T14:11:10.503848Z",
     "start_time": "2021-11-11T14:11:10.258008Z"
    },
    "hidden": true
   },
   "outputs": [
    {
     "data": {
      "text/html": [
       "<div>\n",
       "<style scoped>\n",
       "    .dataframe tbody tr th:only-of-type {\n",
       "        vertical-align: middle;\n",
       "    }\n",
       "\n",
       "    .dataframe tbody tr th {\n",
       "        vertical-align: top;\n",
       "    }\n",
       "\n",
       "    .dataframe thead th {\n",
       "        text-align: right;\n",
       "    }\n",
       "</style>\n",
       "<table border=\"1\" class=\"dataframe\">\n",
       "  <thead>\n",
       "    <tr style=\"text-align: right;\">\n",
       "      <th></th>\n",
       "      <th>order_id</th>\n",
       "      <th>order_item_id</th>\n",
       "      <th>product_id</th>\n",
       "      <th>seller_id</th>\n",
       "      <th>shipping_limit_date</th>\n",
       "      <th>price</th>\n",
       "      <th>freight_value</th>\n",
       "    </tr>\n",
       "  </thead>\n",
       "  <tbody>\n",
       "    <tr>\n",
       "      <th>0</th>\n",
       "      <td>00010242fe8c5a6d1ba2dd792cb16214</td>\n",
       "      <td>1</td>\n",
       "      <td>4244733e06e7ecb4970a6e2683c13e61</td>\n",
       "      <td>48436dade18ac8b2bce089ec2a041202</td>\n",
       "      <td>2017-09-19 09:45:35</td>\n",
       "      <td>58.90</td>\n",
       "      <td>13.29</td>\n",
       "    </tr>\n",
       "    <tr>\n",
       "      <th>1</th>\n",
       "      <td>00018f77f2f0320c557190d7a144bdd3</td>\n",
       "      <td>1</td>\n",
       "      <td>e5f2d52b802189ee658865ca93d83a8f</td>\n",
       "      <td>dd7ddc04e1b6c2c614352b383efe2d36</td>\n",
       "      <td>2017-05-03 11:05:13</td>\n",
       "      <td>239.90</td>\n",
       "      <td>19.93</td>\n",
       "    </tr>\n",
       "    <tr>\n",
       "      <th>2</th>\n",
       "      <td>000229ec398224ef6ca0657da4fc703e</td>\n",
       "      <td>1</td>\n",
       "      <td>c777355d18b72b67abbeef9df44fd0fd</td>\n",
       "      <td>5b51032eddd242adc84c38acab88f23d</td>\n",
       "      <td>2018-01-18 14:48:30</td>\n",
       "      <td>199.00</td>\n",
       "      <td>17.87</td>\n",
       "    </tr>\n",
       "    <tr>\n",
       "      <th>3</th>\n",
       "      <td>00024acbcdf0a6daa1e931b038114c75</td>\n",
       "      <td>1</td>\n",
       "      <td>7634da152a4610f1595efa32f14722fc</td>\n",
       "      <td>9d7a1d34a5052409006425275ba1c2b4</td>\n",
       "      <td>2018-08-15 10:10:18</td>\n",
       "      <td>12.99</td>\n",
       "      <td>12.79</td>\n",
       "    </tr>\n",
       "    <tr>\n",
       "      <th>4</th>\n",
       "      <td>00042b26cf59d7ce69dfabb4e55b4fd9</td>\n",
       "      <td>1</td>\n",
       "      <td>ac6c3623068f30de03045865e4e10089</td>\n",
       "      <td>df560393f3a51e74553ab94004ba5c87</td>\n",
       "      <td>2017-02-13 13:57:51</td>\n",
       "      <td>199.90</td>\n",
       "      <td>18.14</td>\n",
       "    </tr>\n",
       "  </tbody>\n",
       "</table>\n",
       "</div>"
      ],
      "text/plain": [
       "                           order_id  order_item_id  \\\n",
       "0  00010242fe8c5a6d1ba2dd792cb16214              1   \n",
       "1  00018f77f2f0320c557190d7a144bdd3              1   \n",
       "2  000229ec398224ef6ca0657da4fc703e              1   \n",
       "3  00024acbcdf0a6daa1e931b038114c75              1   \n",
       "4  00042b26cf59d7ce69dfabb4e55b4fd9              1   \n",
       "\n",
       "                         product_id                         seller_id  \\\n",
       "0  4244733e06e7ecb4970a6e2683c13e61  48436dade18ac8b2bce089ec2a041202   \n",
       "1  e5f2d52b802189ee658865ca93d83a8f  dd7ddc04e1b6c2c614352b383efe2d36   \n",
       "2  c777355d18b72b67abbeef9df44fd0fd  5b51032eddd242adc84c38acab88f23d   \n",
       "3  7634da152a4610f1595efa32f14722fc  9d7a1d34a5052409006425275ba1c2b4   \n",
       "4  ac6c3623068f30de03045865e4e10089  df560393f3a51e74553ab94004ba5c87   \n",
       "\n",
       "   shipping_limit_date   price  freight_value  \n",
       "0  2017-09-19 09:45:35   58.90          13.29  \n",
       "1  2017-05-03 11:05:13  239.90          19.93  \n",
       "2  2018-01-18 14:48:30  199.00          17.87  \n",
       "3  2018-08-15 10:10:18   12.99          12.79  \n",
       "4  2017-02-13 13:57:51  199.90          18.14  "
      ]
     },
     "execution_count": 36,
     "metadata": {},
     "output_type": "execute_result"
    }
   ],
   "source": [
    "pd.read_sql_table('order_items_table',conn).head()"
   ]
  },
  {
   "cell_type": "markdown",
   "id": "4f4ed202",
   "metadata": {
    "ExecuteTime": {
     "end_time": "2021-11-05T20:56:07.526621Z",
     "start_time": "2021-11-05T20:56:07.379862Z"
    },
    "heading_collapsed": true
   },
   "source": [
    "# Order Payments Dataset"
   ]
  },
  {
   "cell_type": "code",
   "execution_count": 37,
   "id": "4cdcc57e",
   "metadata": {
    "ExecuteTime": {
     "end_time": "2021-11-11T14:11:11.204953Z",
     "start_time": "2021-11-11T14:11:10.504588Z"
    },
    "hidden": true
   },
   "outputs": [
    {
     "data": {
      "text/html": [
       "<div>\n",
       "<style scoped>\n",
       "    .dataframe tbody tr th:only-of-type {\n",
       "        vertical-align: middle;\n",
       "    }\n",
       "\n",
       "    .dataframe tbody tr th {\n",
       "        vertical-align: top;\n",
       "    }\n",
       "\n",
       "    .dataframe thead th {\n",
       "        text-align: right;\n",
       "    }\n",
       "</style>\n",
       "<table border=\"1\" class=\"dataframe\">\n",
       "  <thead>\n",
       "    <tr style=\"text-align: right;\">\n",
       "      <th></th>\n",
       "      <th>order_id</th>\n",
       "      <th>payment_sequential</th>\n",
       "      <th>payment_type</th>\n",
       "      <th>payment_installments</th>\n",
       "      <th>payment_value</th>\n",
       "    </tr>\n",
       "  </thead>\n",
       "  <tbody>\n",
       "    <tr>\n",
       "      <th>0</th>\n",
       "      <td>b81ef226f3fe1789b1e8b2acac839d17</td>\n",
       "      <td>1</td>\n",
       "      <td>credit_card</td>\n",
       "      <td>8</td>\n",
       "      <td>99.33</td>\n",
       "    </tr>\n",
       "    <tr>\n",
       "      <th>1</th>\n",
       "      <td>a9810da82917af2d9aefd1278f1dcfa0</td>\n",
       "      <td>1</td>\n",
       "      <td>credit_card</td>\n",
       "      <td>1</td>\n",
       "      <td>24.39</td>\n",
       "    </tr>\n",
       "    <tr>\n",
       "      <th>2</th>\n",
       "      <td>25e8ea4e93396b6fa0d3dd708e76c1bd</td>\n",
       "      <td>1</td>\n",
       "      <td>credit_card</td>\n",
       "      <td>1</td>\n",
       "      <td>65.71</td>\n",
       "    </tr>\n",
       "    <tr>\n",
       "      <th>3</th>\n",
       "      <td>ba78997921bbcdc1373bb41e913ab953</td>\n",
       "      <td>1</td>\n",
       "      <td>credit_card</td>\n",
       "      <td>8</td>\n",
       "      <td>107.78</td>\n",
       "    </tr>\n",
       "    <tr>\n",
       "      <th>4</th>\n",
       "      <td>42fdf880ba16b47b59251dd489d4441a</td>\n",
       "      <td>1</td>\n",
       "      <td>credit_card</td>\n",
       "      <td>2</td>\n",
       "      <td>128.45</td>\n",
       "    </tr>\n",
       "    <tr>\n",
       "      <th>...</th>\n",
       "      <td>...</td>\n",
       "      <td>...</td>\n",
       "      <td>...</td>\n",
       "      <td>...</td>\n",
       "      <td>...</td>\n",
       "    </tr>\n",
       "    <tr>\n",
       "      <th>103881</th>\n",
       "      <td>0406037ad97740d563a178ecc7a2075c</td>\n",
       "      <td>1</td>\n",
       "      <td>boleto</td>\n",
       "      <td>1</td>\n",
       "      <td>363.31</td>\n",
       "    </tr>\n",
       "    <tr>\n",
       "      <th>103882</th>\n",
       "      <td>7b905861d7c825891d6347454ea7863f</td>\n",
       "      <td>1</td>\n",
       "      <td>credit_card</td>\n",
       "      <td>2</td>\n",
       "      <td>96.80</td>\n",
       "    </tr>\n",
       "    <tr>\n",
       "      <th>103883</th>\n",
       "      <td>32609bbb3dd69b3c066a6860554a77bf</td>\n",
       "      <td>1</td>\n",
       "      <td>credit_card</td>\n",
       "      <td>1</td>\n",
       "      <td>47.77</td>\n",
       "    </tr>\n",
       "    <tr>\n",
       "      <th>103884</th>\n",
       "      <td>b8b61059626efa996a60be9bb9320e10</td>\n",
       "      <td>1</td>\n",
       "      <td>credit_card</td>\n",
       "      <td>5</td>\n",
       "      <td>369.54</td>\n",
       "    </tr>\n",
       "    <tr>\n",
       "      <th>103885</th>\n",
       "      <td>28bbae6599b09d39ca406b747b6632b1</td>\n",
       "      <td>1</td>\n",
       "      <td>boleto</td>\n",
       "      <td>1</td>\n",
       "      <td>191.58</td>\n",
       "    </tr>\n",
       "  </tbody>\n",
       "</table>\n",
       "<p>103886 rows × 5 columns</p>\n",
       "</div>"
      ],
      "text/plain": [
       "                                order_id  payment_sequential payment_type  \\\n",
       "0       b81ef226f3fe1789b1e8b2acac839d17                   1  credit_card   \n",
       "1       a9810da82917af2d9aefd1278f1dcfa0                   1  credit_card   \n",
       "2       25e8ea4e93396b6fa0d3dd708e76c1bd                   1  credit_card   \n",
       "3       ba78997921bbcdc1373bb41e913ab953                   1  credit_card   \n",
       "4       42fdf880ba16b47b59251dd489d4441a                   1  credit_card   \n",
       "...                                  ...                 ...          ...   \n",
       "103881  0406037ad97740d563a178ecc7a2075c                   1       boleto   \n",
       "103882  7b905861d7c825891d6347454ea7863f                   1  credit_card   \n",
       "103883  32609bbb3dd69b3c066a6860554a77bf                   1  credit_card   \n",
       "103884  b8b61059626efa996a60be9bb9320e10                   1  credit_card   \n",
       "103885  28bbae6599b09d39ca406b747b6632b1                   1       boleto   \n",
       "\n",
       "        payment_installments  payment_value  \n",
       "0                          8          99.33  \n",
       "1                          1          24.39  \n",
       "2                          1          65.71  \n",
       "3                          8         107.78  \n",
       "4                          2         128.45  \n",
       "...                      ...            ...  \n",
       "103881                     1         363.31  \n",
       "103882                     2          96.80  \n",
       "103883                     1          47.77  \n",
       "103884                     5         369.54  \n",
       "103885                     1         191.58  \n",
       "\n",
       "[103886 rows x 5 columns]"
      ]
     },
     "execution_count": 37,
     "metadata": {},
     "output_type": "execute_result"
    }
   ],
   "source": [
    "order_payments_dataset = pd.read_csv('olist_order_payments_dataset.csv')\n",
    "\n",
    "conn.execute(\"\"\"CREATE TABLE olist_order_payments_table (\n",
    "order_id                 TEXT,\n",
    "payment_sequential        INTEGER,\n",
    "payment_type             TEXT,\n",
    "payment_installments      INTEGER,\n",
    "payment_value           REAL\n",
    ")\"\"\")\n",
    "\n",
    "order_payments_dataset.to_sql('olist_order_payments_table',conn,if_exists='append',index=False)\n",
    "pd.read_sql_table('olist_order_payments_table',conn)"
   ]
  },
  {
   "cell_type": "markdown",
   "id": "5262888c",
   "metadata": {
    "heading_collapsed": true
   },
   "source": [
    "# Order Reviews Dataset"
   ]
  },
  {
   "cell_type": "code",
   "execution_count": 38,
   "id": "ca8c0e98",
   "metadata": {
    "ExecuteTime": {
     "end_time": "2021-11-11T14:11:11.367158Z",
     "start_time": "2021-11-11T14:11:11.205692Z"
    },
    "hidden": true
   },
   "outputs": [
    {
     "data": {
      "text/plain": [
       "<sqlalchemy.engine.cursor.LegacyCursorResult at 0x1778af8b0>"
      ]
     },
     "execution_count": 38,
     "metadata": {},
     "output_type": "execute_result"
    }
   ],
   "source": [
    "olist_order_reviews_dataset = pd.read_csv('olist_order_reviews_dataset.csv')\n",
    "conn.execute(\"\"\" CREATE TABLE olist_order_reviews_table (\n",
    "review_id                  TEXT,\n",
    "order_id                   TEXT,\n",
    "review_score                INTEGER,\n",
    "review_comment_title       TEXT,\n",
    "review_comment_message     TEXT,\n",
    "review_creation_date       TEXT,\n",
    "review_answer_timestamp    TEXT)\"\"\")"
   ]
  },
  {
   "cell_type": "code",
   "execution_count": 39,
   "id": "d5e322e3",
   "metadata": {
    "ExecuteTime": {
     "end_time": "2021-11-11T14:11:11.888772Z",
     "start_time": "2021-11-11T14:11:11.368733Z"
    },
    "hidden": true
   },
   "outputs": [],
   "source": [
    "olist_order_reviews_dataset.to_sql('olist_order_reviews_table',conn,if_exists='append',index=False)"
   ]
  },
  {
   "cell_type": "markdown",
   "id": "c9ea5ff2",
   "metadata": {
    "heading_collapsed": true
   },
   "source": [
    "# Olist Orders"
   ]
  },
  {
   "cell_type": "code",
   "execution_count": 48,
   "id": "d86a700c",
   "metadata": {
    "ExecuteTime": {
     "end_time": "2021-11-11T14:32:13.042228Z",
     "start_time": "2021-11-11T14:32:12.808564Z"
    },
    "hidden": true
   },
   "outputs": [
    {
     "data": {
      "text/plain": [
       "<sqlalchemy.engine.cursor.LegacyCursorResult at 0x2834afdf0>"
      ]
     },
     "execution_count": 48,
     "metadata": {},
     "output_type": "execute_result"
    }
   ],
   "source": [
    "olist_orders_dataset = pd.read_csv('olist_orders_dataset.csv')\n",
    "conn.execute(\"\"\"CREATE TABLE olist_orders_table (\n",
    "order_id                         TEXT,\n",
    "customer_id                      TEXT,\n",
    "order_status                     TEXT,\n",
    "order_purchase_timestamp         TEXT,\n",
    "order_approved_at                TEXT,\n",
    "order_delivered_carrier_date     TEXT,\n",
    "order_delivered_customer_date    TEXT,\n",
    "order_estimated_delivery_date    TEXT)\"\"\")"
   ]
  },
  {
   "cell_type": "code",
   "execution_count": 49,
   "id": "3c210c21",
   "metadata": {
    "ExecuteTime": {
     "end_time": "2021-11-11T14:32:41.348547Z",
     "start_time": "2021-11-11T14:32:40.739889Z"
    },
    "hidden": true
   },
   "outputs": [],
   "source": [
    "olist_orders_dataset.to_sql('olist_orders_table',conn,if_exists='append',index=False)"
   ]
  },
  {
   "cell_type": "markdown",
   "id": "6646aa6d",
   "metadata": {
    "heading_collapsed": true
   },
   "source": [
    "# Olist Products"
   ]
  },
  {
   "cell_type": "code",
   "execution_count": 53,
   "id": "745b9920",
   "metadata": {
    "ExecuteTime": {
     "end_time": "2021-11-11T14:34:16.904050Z",
     "start_time": "2021-11-11T14:34:16.848233Z"
    },
    "hidden": true
   },
   "outputs": [
    {
     "data": {
      "text/plain": [
       "<sqlalchemy.engine.cursor.LegacyCursorResult at 0x1629e11c0>"
      ]
     },
     "execution_count": 53,
     "metadata": {},
     "output_type": "execute_result"
    }
   ],
   "source": [
    "olist_products_dataset = pd.read_csv('olist_products_dataset.csv')\n",
    "conn.execute(\"\"\"CREATE TABLE olist_products_table (\n",
    "product_id                     TEXT,\n",
    "product_category_name          TEXT,\n",
    "product_name_lenght           REAL,\n",
    "product_description_lenght    REAL,\n",
    "product_photos_qty            REAL,\n",
    "product_weight_g              REAL,\n",
    "product_length_cm             REAL,\n",
    "product_height_cm             REAL,\n",
    "product_width_cm              REAL)\"\"\")"
   ]
  },
  {
   "cell_type": "code",
   "execution_count": 54,
   "id": "4337d0cb",
   "metadata": {
    "ExecuteTime": {
     "end_time": "2021-11-11T14:34:40.363423Z",
     "start_time": "2021-11-11T14:34:40.173917Z"
    },
    "hidden": true
   },
   "outputs": [],
   "source": [
    "olist_products_dataset.to_sql('olist_products_table',conn,if_exists='append',index=False)"
   ]
  },
  {
   "cell_type": "markdown",
   "id": "0bf748b5",
   "metadata": {
    "ExecuteTime": {
     "end_time": "2021-11-11T14:35:02.074702Z",
     "start_time": "2021-11-11T14:35:01.934611Z"
    },
    "heading_collapsed": true
   },
   "source": [
    "# Olist Sellers"
   ]
  },
  {
   "cell_type": "code",
   "execution_count": 58,
   "id": "a6e4567a",
   "metadata": {
    "ExecuteTime": {
     "end_time": "2021-11-11T14:36:38.085499Z",
     "start_time": "2021-11-11T14:36:38.071354Z"
    },
    "hidden": true
   },
   "outputs": [
    {
     "data": {
      "text/plain": [
       "<sqlalchemy.engine.cursor.LegacyCursorResult at 0x13675b1c0>"
      ]
     },
     "execution_count": 58,
     "metadata": {},
     "output_type": "execute_result"
    }
   ],
   "source": [
    "olist_sellers_dataset = pd.read_csv('olist_sellers_dataset.csv')\n",
    "conn.execute(\"\"\"CREATE TABLE olist_sellers_table (\n",
    "seller_id                 TEXT,\n",
    "seller_zip_code_prefix     INTEGER,\n",
    "seller_city               TEXT,\n",
    "seller_state              TEXT)\"\"\")"
   ]
  },
  {
   "cell_type": "code",
   "execution_count": 59,
   "id": "7ee46c63",
   "metadata": {
    "ExecuteTime": {
     "end_time": "2021-11-11T14:37:01.816370Z",
     "start_time": "2021-11-11T14:37:01.780709Z"
    },
    "hidden": true
   },
   "outputs": [],
   "source": [
    "olist_sellers_dataset.to_sql('olist_sellers_table',conn,if_exists='append',index=False)"
   ]
  },
  {
   "cell_type": "markdown",
   "id": "628febe5",
   "metadata": {
    "heading_collapsed": true
   },
   "source": [
    "# Product Category Name Translation"
   ]
  },
  {
   "cell_type": "code",
   "execution_count": 69,
   "id": "b5a49fed",
   "metadata": {
    "ExecuteTime": {
     "end_time": "2021-11-11T14:41:09.017046Z",
     "start_time": "2021-11-11T14:41:09.005795Z"
    },
    "hidden": true
   },
   "outputs": [
    {
     "data": {
      "text/plain": [
       "<sqlalchemy.engine.cursor.LegacyCursorResult at 0x1344f6970>"
      ]
     },
     "execution_count": 69,
     "metadata": {},
     "output_type": "execute_result"
    }
   ],
   "source": [
    "product_category_name_translation_dataset = pd.read_csv('product_category_name_translation.csv')\n",
    "conn.execute(\"\"\"CREATE TABLE product_category_name_translation_table(\n",
    "product_category_name            TEXT,\n",
    "product_category_name_english    TEXT)\"\"\")"
   ]
  },
  {
   "cell_type": "code",
   "execution_count": 70,
   "id": "0a8a26ad",
   "metadata": {
    "ExecuteTime": {
     "end_time": "2021-11-11T14:41:31.859690Z",
     "start_time": "2021-11-11T14:41:31.851477Z"
    },
    "hidden": true
   },
   "outputs": [],
   "source": [
    "product_category_name_translation_dataset.to_sql('product_category_name_translation_table',conn,if_exists='append',index=False)"
   ]
  },
  {
   "cell_type": "markdown",
   "id": "90908be1",
   "metadata": {},
   "source": [
    "#"
   ]
  },
  {
   "cell_type": "code",
   "execution_count": 12,
   "id": "47e455de",
   "metadata": {
    "ExecuteTime": {
     "end_time": "2021-11-18T00:39:32.396787Z",
     "start_time": "2021-11-18T00:39:32.143043Z"
    }
   },
   "outputs": [
    {
     "data": {
      "text/plain": [
       "array([1])"
      ]
     },
     "execution_count": 12,
     "metadata": {},
     "output_type": "execute_result"
    }
   ],
   "source": [
    "import pandas as pd\n",
    "olist_orders_dataset = pd.read_csv('olist_orders_dataset.csv')\n",
    "olist_orders_dataset['customer_id'].value_counts().unique()"
   ]
  },
  {
   "cell_type": "code",
   "execution_count": null,
   "id": "2311bc75",
   "metadata": {},
   "outputs": [],
   "source": []
  }
 ],
 "metadata": {
  "kernelspec": {
   "display_name": "Python 3 (ipykernel)",
   "language": "python",
   "name": "python3"
  },
  "language_info": {
   "codemirror_mode": {
    "name": "ipython",
    "version": 3
   },
   "file_extension": ".py",
   "mimetype": "text/x-python",
   "name": "python",
   "nbconvert_exporter": "python",
   "pygments_lexer": "ipython3",
   "version": "3.9.2"
  },
  "toc": {
   "base_numbering": 1,
   "nav_menu": {},
   "number_sections": true,
   "sideBar": true,
   "skip_h1_title": false,
   "title_cell": "Table of Contents",
   "title_sidebar": "Contents",
   "toc_cell": false,
   "toc_position": {},
   "toc_section_display": true,
   "toc_window_display": false
  }
 },
 "nbformat": 4,
 "nbformat_minor": 5
}
