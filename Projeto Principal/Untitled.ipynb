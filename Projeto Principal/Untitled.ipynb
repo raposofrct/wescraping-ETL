{
 "cells": [
  {
   "cell_type": "markdown",
   "id": "1bce7812",
   "metadata": {
    "heading_collapsed": true
   },
   "source": [
    "# Problema de Negócio"
   ]
  },
  {
   "cell_type": "code",
   "execution_count": 179,
   "id": "09b74cdf",
   "metadata": {
    "ExecuteTime": {
     "end_time": "2021-10-21T15:50:23.464878Z",
     "start_time": "2021-10-21T15:50:23.461018Z"
    },
    "hidden": true
   },
   "outputs": [],
   "source": [
    "# Uma empresa quer entrar no mercado americano de moda com calça jeans masculina, mas desejam saber:\n",
    "    # Qual o melhor preço de venda para a calça?\n",
    "    # Quantos tipos de e cores para o produto inicial?\n",
    "    # Qual a matéria prima necessária para fabricar?\n",
    "\n",
    "# Para analisar isso, devemos analisar duas concorrentes da empresa: H&M e Macy's"
   ]
  },
  {
   "cell_type": "markdown",
   "id": "8171e053",
   "metadata": {
    "heading_collapsed": true
   },
   "source": [
    "# Entendimento de Negócio"
   ]
  },
  {
   "cell_type": "markdown",
   "id": "7d34ad66",
   "metadata": {
    "hidden": true
   },
   "source": [
    "### Primeira Pergunta"
   ]
  },
  {
   "cell_type": "code",
   "execution_count": 180,
   "id": "8e8529e5",
   "metadata": {
    "ExecuteTime": {
     "end_time": "2021-10-21T15:50:23.470602Z",
     "start_time": "2021-10-21T15:50:23.467827Z"
    },
    "hidden": true
   },
   "outputs": [],
   "source": [
    "# 1 - Encontrar a causa raíz dessa questão (Identificar o contexto para assim achar o real problema):\n",
    "    # Analisando com o time de negócio, chegamos à conclusão que:\n",
    "    # O contexto atual é: não tem expertise no mercado, fazendo com que ela não saiba precificar\n",
    "    # A causa raíz é: Dificuldade de Precificação\n",
    "    \n",
    "# 2 - Definir um escopo (plano) fechado para uma pergunta aberta:\n",
    "    # A minha solução será a mediana de preço das concorrentes nos últimos 30 dias \n",
    "    # Esse preço será para cada cor, estilo, material de cada calça jeans"
   ]
  },
  {
   "cell_type": "markdown",
   "id": "a7032df4",
   "metadata": {
    "hidden": true
   },
   "source": [
    "### Segunda Pergunta"
   ]
  },
  {
   "cell_type": "code",
   "execution_count": 181,
   "id": "4146c90c",
   "metadata": {
    "ExecuteTime": {
     "end_time": "2021-10-21T15:50:23.474807Z",
     "start_time": "2021-10-21T15:50:23.472877Z"
    },
    "hidden": true
   },
   "outputs": [],
   "source": [
    "# 1 - Encontrar a causa raíz dessa questão (Identificar o contexto para assim achar o real problema):\n",
    "    # Analisando com o time de negócio, chegamos à conclusão que:\n",
    "    # O contexto atual é: não tem expertise no mercado, fazendo com que ela não qual calça vender\n",
    "    # A causa raíz é: Dificuldade em saber qual produto vender, como cor e estilo\n",
    "    \n",
    "# 2 - Definir um escopo (plano) fechado para uma pergunta aberta:\n",
    "    # A minha solução será as cores e estilos de calças vendidos pelos concorrentes nos últimos 30 dias "
   ]
  },
  {
   "cell_type": "markdown",
   "id": "bba39816",
   "metadata": {
    "hidden": true
   },
   "source": [
    "### Terceira Pergunta"
   ]
  },
  {
   "cell_type": "code",
   "execution_count": 182,
   "id": "3a4385d5",
   "metadata": {
    "ExecuteTime": {
     "end_time": "2021-10-21T15:50:23.479499Z",
     "start_time": "2021-10-21T15:50:23.477362Z"
    },
    "hidden": true
   },
   "outputs": [],
   "source": [
    "# 1 - Encontrar a causa raíz dessa questão (Identificar o contexto para assim achar o real problema):\n",
    "    # Analisando com o time de negócio, chegamos à conclusão que:\n",
    "    # O contexto atual é: não tem expertise no mercado, fazendo com que ela não saiba de que material fabricar\n",
    "    # A causa raíz é: Dificuldade em saber qual produto vender, em especial, ao material da calça.\n",
    "    \n",
    "# 2 - Definir um escopo (plano) fechado para uma pergunta aberta:\n",
    "    # A minha solução será apresentar os materiais que são fabricados as calças dos concorrentes nos últimos 30 dias "
   ]
  },
  {
   "cell_type": "markdown",
   "id": "e7e21011",
   "metadata": {
    "hidden": true
   },
   "source": [
    "### Escopo"
   ]
  },
  {
   "cell_type": "code",
   "execution_count": 183,
   "id": "f7ada439",
   "metadata": {
    "ExecuteTime": {
     "end_time": "2021-10-21T15:50:23.483174Z",
     "start_time": "2021-10-21T15:50:23.481384Z"
    },
    "hidden": true
   },
   "outputs": [],
   "source": [
    "# 3 - Quebrar esse plano em tarefas menores ordenadas logicamente e realizar no método cíclico:\n",
    "    # 1 = Montar um database com as colunas: \"name\", \"type\", \"color\", \"price\",\"material\" com webscraping na H&M e Macys\n",
    "    # 2 = Definir o schema: as colunas e os seus tipos\n",
    "    # 3 = Vamos escolher a infraestrutura do SQLite3\n",
    "    # 4 = Design do ETL (Scripts de Extração, Transformação e Carga)\n",
    "    # 5 = Fazer a mediana das calças separadas por categorias\n",
    "    # 6 = Fazer agrupamento das categorias das calças\n",
    "    # 7 = Fazer a visualização do produto final em um gráfico ou tabela\n",
    "    # 8 = Entregar o produto final através do streamlit"
   ]
  },
  {
   "cell_type": "markdown",
   "id": "8049550f",
   "metadata": {
    "heading_collapsed": true
   },
   "source": [
    "# Coleta de Dados"
   ]
  },
  {
   "cell_type": "code",
   "execution_count": 184,
   "id": "0dcbfe9a",
   "metadata": {
    "ExecuteTime": {
     "end_time": "2021-10-21T15:50:23.485804Z",
     "start_time": "2021-10-21T15:50:23.484375Z"
    },
    "hidden": true
   },
   "outputs": [],
   "source": [
    "# O que precisamos é: do nome, cor, preço, material e das características, das jeans (fit and atyle)\n",
    "# Faremos o webscraping no site da macys e da H&M"
   ]
  },
  {
   "cell_type": "code",
   "execution_count": 17,
   "id": "90676245",
   "metadata": {
    "ExecuteTime": {
     "end_time": "2021-11-03T12:15:25.974143Z",
     "start_time": "2021-11-03T12:15:25.971578Z"
    },
    "hidden": true
   },
   "outputs": [],
   "source": [
    "from bs4 import BeautifulSoup\n",
    "import requests\n",
    "import pandas as pd"
   ]
  },
  {
   "cell_type": "code",
   "execution_count": 18,
   "id": "58669035",
   "metadata": {
    "ExecuteTime": {
     "end_time": "2021-11-03T12:15:27.933489Z",
     "start_time": "2021-11-03T12:15:26.648394Z"
    },
    "hidden": true
   },
   "outputs": [],
   "source": [
    "# Conseguindo o HTML\n",
    "html = requests.get('https://www2.hm.com/en_us/men/products/jeans.html', headers={'user-agent':'Mozilla/5.0 (Macintosh; Intel Mac OS X 10_15_7) AppleWebKit/537.36 (KHTML, like Gecko) Chrome/94.0.4606.81 Safari/537.36'})\n",
    "soup = BeautifulSoup(html.text,'html.parser')\n",
    "\n",
    "# Conseguindo todas as vitrines (Paginação)\n",
    "qtd_produtos = int(soup.find('h2',class_='load-more-heading')['data-total'])\n",
    "html = requests.get('https://www2.hm.com/en_us/men/products/jeans.html?sort=stock&image-size=small&image=model&offset=0&page-size='+str(qtd_produtos), headers={'user-agent':'Mozilla/5.0 (Macintosh; Intel Mac OS X 10_15_7) AppleWebKit/537.36 (KHTML, like Gecko) Chrome/94.0.4606.81 Safari/537.36'})\n",
    "soup = BeautifulSoup(html.text,'html.parser')"
   ]
  },
  {
   "cell_type": "code",
   "execution_count": 19,
   "id": "a4d66193",
   "metadata": {
    "ExecuteTime": {
     "end_time": "2021-11-03T12:15:29.246695Z",
     "start_time": "2021-11-03T12:15:29.219597Z"
    },
    "hidden": true
   },
   "outputs": [],
   "source": [
    "# Achar cada vitrine\n",
    "produtos = soup.findAll('article',class_='hm-product-item')\n",
    "\n",
    "# Conseguindo o link de cada vitrine\n",
    "links = []\n",
    "for produto in produtos:\n",
    "    links.append('https://www2.hm.com/'+produto.find('a')['href'])"
   ]
  },
  {
   "cell_type": "code",
   "execution_count": 20,
   "id": "e6e9aae0",
   "metadata": {
    "ExecuteTime": {
     "end_time": "2021-11-03T12:16:02.946541Z",
     "start_time": "2021-11-03T12:15:35.265790Z"
    },
    "hidden": true
   },
   "outputs": [],
   "source": [
    "# Achar o código do produto\n",
    "lst_codigo = []\n",
    "\n",
    "for link in links:\n",
    "    html = requests.get(link, headers={'user-agent':'Mozilla/5.0 (Macintosh; Intel Mac OS X 10_15_7) AppleWebKit/537.36 (KHTML, like Gecko) Chrome/94.0.4606.81 Safari/537.36'})\n",
    "    soup = BeautifulSoup(html.text,'html.parser')\n",
    "\n",
    "    for c in range(len(soup.findAll('a',class_='filter-option miniature'))):\n",
    "        lst_codigo.append(soup.findAll('a',class_='filter-option miniature')[c]['data-articlecode'])\n",
    "    for c in range(len(soup.findAll('a',class_='filter-option miniature active'))):\n",
    "        lst_codigo.append(soup.findAll('a',class_='filter-option miniature active')[c]['data-articlecode'])"
   ]
  },
  {
   "cell_type": "code",
   "execution_count": 21,
   "id": "b4094d2f",
   "metadata": {
    "ExecuteTime": {
     "end_time": "2021-11-03T12:16:06.221843Z",
     "start_time": "2021-11-03T12:16:06.218144Z"
    },
    "hidden": true
   },
   "outputs": [],
   "source": [
    "# Aparecem vitrines repetidas com cores distintas, removendo os duplicates\n",
    "dados = pd.DataFrame(lst_codigo,columns=['id'])\n",
    "dados.drop_duplicates(subset=['id'],inplace=True)\n",
    "dados.reset_index(inplace=True,drop=True)"
   ]
  },
  {
   "cell_type": "code",
   "execution_count": 22,
   "id": "d8194082",
   "metadata": {
    "ExecuteTime": {
     "end_time": "2021-11-03T12:16:07.620558Z",
     "start_time": "2021-11-03T12:16:07.615885Z"
    },
    "hidden": true
   },
   "outputs": [],
   "source": [
    "# Links\n",
    "links = []\n",
    "for cod in dados['id']:\n",
    "    links.append('https://www2.hm.com/en_us/productpage.'+ cod +'.html')\n",
    "dados['link'] = links"
   ]
  },
  {
   "cell_type": "code",
   "execution_count": 23,
   "id": "2b4ea5f7",
   "metadata": {
    "ExecuteTime": {
     "end_time": "2021-11-03T12:20:48.549088Z",
     "start_time": "2021-11-03T12:16:09.878352Z"
    },
    "hidden": true
   },
   "outputs": [],
   "source": [
    "# Nome\n",
    "lst_name = []\n",
    "for link in dados['link']:\n",
    "    html = requests.get(link, headers={'user-agent':'Mozilla/5.0 (Macintosh; Intel Mac OS X 10_15_7) AppleWebKit/537.36 (KHTML, like Gecko) Chrome/94.0.4606.81 Safari/537.36'})\n",
    "    soup = BeautifulSoup(html.text,'html.parser')\n",
    "    lst_name.append(' '.join(soup.find('h1',class_='primary product-item-headline').string.split()))\n",
    "dados['name'] = lst_name"
   ]
  },
  {
   "cell_type": "code",
   "execution_count": 24,
   "id": "7e7229a0",
   "metadata": {
    "ExecuteTime": {
     "end_time": "2021-11-03T12:24:07.460223Z",
     "start_time": "2021-11-03T12:20:48.550063Z"
    },
    "hidden": true
   },
   "outputs": [],
   "source": [
    "# Cores\n",
    "cores = []\n",
    "for link in dados['link']:\n",
    "    html = requests.get(link, headers={'user-agent':'Mozilla/5.0 (Macintosh; Intel Mac OS X 10_15_7) AppleWebKit/537.36 (KHTML, like Gecko) Chrome/94.0.4606.81 Safari/537.36'})\n",
    "    soup = BeautifulSoup(html.text,'html.parser')\n",
    "    cor = soup.find('a',class_='filter-option miniature active')['data-color']\n",
    "    cores.append(cor)\n",
    "dados['color'] = cores"
   ]
  },
  {
   "cell_type": "code",
   "execution_count": 25,
   "id": "6150f189",
   "metadata": {
    "ExecuteTime": {
     "end_time": "2021-11-03T12:24:15.495794Z",
     "start_time": "2021-11-03T12:24:07.461348Z"
    },
    "hidden": true
   },
   "outputs": [
    {
     "ename": "KeyboardInterrupt",
     "evalue": "",
     "output_type": "error",
     "traceback": [
      "\u001b[0;31m---------------------------------------------------------------------------\u001b[0m",
      "\u001b[0;31mKeyboardInterrupt\u001b[0m                         Traceback (most recent call last)",
      "\u001b[0;32m<ipython-input-25-41461fda30b4>\u001b[0m in \u001b[0;36m<module>\u001b[0;34m\u001b[0m\n\u001b[1;32m      3\u001b[0m \u001b[0mlst\u001b[0m \u001b[0;34m=\u001b[0m \u001b[0;34m[\u001b[0m\u001b[0;34m]\u001b[0m\u001b[0;34m\u001b[0m\u001b[0;34m\u001b[0m\u001b[0m\n\u001b[1;32m      4\u001b[0m \u001b[0;32mfor\u001b[0m \u001b[0mlink\u001b[0m \u001b[0;32min\u001b[0m \u001b[0mdados\u001b[0m\u001b[0;34m[\u001b[0m\u001b[0;34m'link'\u001b[0m\u001b[0;34m]\u001b[0m\u001b[0;34m:\u001b[0m\u001b[0;34m\u001b[0m\u001b[0;34m\u001b[0m\u001b[0m\n\u001b[0;32m----> 5\u001b[0;31m     \u001b[0mhtml\u001b[0m \u001b[0;34m=\u001b[0m \u001b[0mrequests\u001b[0m\u001b[0;34m.\u001b[0m\u001b[0mget\u001b[0m\u001b[0;34m(\u001b[0m\u001b[0mlink\u001b[0m\u001b[0;34m,\u001b[0m \u001b[0mheaders\u001b[0m\u001b[0;34m=\u001b[0m\u001b[0;34m{\u001b[0m\u001b[0;34m'user-agent'\u001b[0m\u001b[0;34m:\u001b[0m\u001b[0;34m'Mozilla/5.0 (Macintosh; Intel Mac OS X 10_15_7) AppleWebKit/537.36 (KHTML, like Gecko) Chrome/94.0.4606.81 Safari/537.36'\u001b[0m\u001b[0;34m}\u001b[0m\u001b[0;34m)\u001b[0m\u001b[0;34m\u001b[0m\u001b[0;34m\u001b[0m\u001b[0m\n\u001b[0m\u001b[1;32m      6\u001b[0m     \u001b[0msoup\u001b[0m \u001b[0;34m=\u001b[0m \u001b[0mBeautifulSoup\u001b[0m\u001b[0;34m(\u001b[0m\u001b[0mhtml\u001b[0m\u001b[0;34m.\u001b[0m\u001b[0mtext\u001b[0m\u001b[0;34m,\u001b[0m\u001b[0;34m'html.parser'\u001b[0m\u001b[0;34m)\u001b[0m\u001b[0;34m\u001b[0m\u001b[0;34m\u001b[0m\u001b[0m\n\u001b[1;32m      7\u001b[0m     \u001b[0;32mfor\u001b[0m \u001b[0mx\u001b[0m \u001b[0;32min\u001b[0m \u001b[0msoup\u001b[0m\u001b[0;34m.\u001b[0m\u001b[0mfindAll\u001b[0m\u001b[0;34m(\u001b[0m\u001b[0;34m'div'\u001b[0m\u001b[0;34m,\u001b[0m\u001b[0mclass_\u001b[0m\u001b[0;34m=\u001b[0m\u001b[0;34m'pdp-description-list-item'\u001b[0m\u001b[0;34m)\u001b[0m\u001b[0;34m:\u001b[0m\u001b[0;34m\u001b[0m\u001b[0;34m\u001b[0m\u001b[0m\n",
      "\u001b[0;32m~/miniforge3/lib/python3.9/site-packages/requests/api.py\u001b[0m in \u001b[0;36mget\u001b[0;34m(url, params, **kwargs)\u001b[0m\n\u001b[1;32m     74\u001b[0m \u001b[0;34m\u001b[0m\u001b[0m\n\u001b[1;32m     75\u001b[0m     \u001b[0mkwargs\u001b[0m\u001b[0;34m.\u001b[0m\u001b[0msetdefault\u001b[0m\u001b[0;34m(\u001b[0m\u001b[0;34m'allow_redirects'\u001b[0m\u001b[0;34m,\u001b[0m \u001b[0;32mTrue\u001b[0m\u001b[0;34m)\u001b[0m\u001b[0;34m\u001b[0m\u001b[0;34m\u001b[0m\u001b[0m\n\u001b[0;32m---> 76\u001b[0;31m     \u001b[0;32mreturn\u001b[0m \u001b[0mrequest\u001b[0m\u001b[0;34m(\u001b[0m\u001b[0;34m'get'\u001b[0m\u001b[0;34m,\u001b[0m \u001b[0murl\u001b[0m\u001b[0;34m,\u001b[0m \u001b[0mparams\u001b[0m\u001b[0;34m=\u001b[0m\u001b[0mparams\u001b[0m\u001b[0;34m,\u001b[0m \u001b[0;34m**\u001b[0m\u001b[0mkwargs\u001b[0m\u001b[0;34m)\u001b[0m\u001b[0;34m\u001b[0m\u001b[0;34m\u001b[0m\u001b[0m\n\u001b[0m\u001b[1;32m     77\u001b[0m \u001b[0;34m\u001b[0m\u001b[0m\n\u001b[1;32m     78\u001b[0m \u001b[0;34m\u001b[0m\u001b[0m\n",
      "\u001b[0;32m~/miniforge3/lib/python3.9/site-packages/requests/api.py\u001b[0m in \u001b[0;36mrequest\u001b[0;34m(method, url, **kwargs)\u001b[0m\n\u001b[1;32m     59\u001b[0m     \u001b[0;31m# cases, and look like a memory leak in others.\u001b[0m\u001b[0;34m\u001b[0m\u001b[0;34m\u001b[0m\u001b[0;34m\u001b[0m\u001b[0m\n\u001b[1;32m     60\u001b[0m     \u001b[0;32mwith\u001b[0m \u001b[0msessions\u001b[0m\u001b[0;34m.\u001b[0m\u001b[0mSession\u001b[0m\u001b[0;34m(\u001b[0m\u001b[0;34m)\u001b[0m \u001b[0;32mas\u001b[0m \u001b[0msession\u001b[0m\u001b[0;34m:\u001b[0m\u001b[0;34m\u001b[0m\u001b[0;34m\u001b[0m\u001b[0m\n\u001b[0;32m---> 61\u001b[0;31m         \u001b[0;32mreturn\u001b[0m \u001b[0msession\u001b[0m\u001b[0;34m.\u001b[0m\u001b[0mrequest\u001b[0m\u001b[0;34m(\u001b[0m\u001b[0mmethod\u001b[0m\u001b[0;34m=\u001b[0m\u001b[0mmethod\u001b[0m\u001b[0;34m,\u001b[0m \u001b[0murl\u001b[0m\u001b[0;34m=\u001b[0m\u001b[0murl\u001b[0m\u001b[0;34m,\u001b[0m \u001b[0;34m**\u001b[0m\u001b[0mkwargs\u001b[0m\u001b[0;34m)\u001b[0m\u001b[0;34m\u001b[0m\u001b[0;34m\u001b[0m\u001b[0m\n\u001b[0m\u001b[1;32m     62\u001b[0m \u001b[0;34m\u001b[0m\u001b[0m\n\u001b[1;32m     63\u001b[0m \u001b[0;34m\u001b[0m\u001b[0m\n",
      "\u001b[0;32m~/miniforge3/lib/python3.9/site-packages/requests/sessions.py\u001b[0m in \u001b[0;36mrequest\u001b[0;34m(self, method, url, params, data, headers, cookies, files, auth, timeout, allow_redirects, proxies, hooks, stream, verify, cert, json)\u001b[0m\n\u001b[1;32m    540\u001b[0m         }\n\u001b[1;32m    541\u001b[0m         \u001b[0msend_kwargs\u001b[0m\u001b[0;34m.\u001b[0m\u001b[0mupdate\u001b[0m\u001b[0;34m(\u001b[0m\u001b[0msettings\u001b[0m\u001b[0;34m)\u001b[0m\u001b[0;34m\u001b[0m\u001b[0;34m\u001b[0m\u001b[0m\n\u001b[0;32m--> 542\u001b[0;31m         \u001b[0mresp\u001b[0m \u001b[0;34m=\u001b[0m \u001b[0mself\u001b[0m\u001b[0;34m.\u001b[0m\u001b[0msend\u001b[0m\u001b[0;34m(\u001b[0m\u001b[0mprep\u001b[0m\u001b[0;34m,\u001b[0m \u001b[0;34m**\u001b[0m\u001b[0msend_kwargs\u001b[0m\u001b[0;34m)\u001b[0m\u001b[0;34m\u001b[0m\u001b[0;34m\u001b[0m\u001b[0m\n\u001b[0m\u001b[1;32m    543\u001b[0m \u001b[0;34m\u001b[0m\u001b[0m\n\u001b[1;32m    544\u001b[0m         \u001b[0;32mreturn\u001b[0m \u001b[0mresp\u001b[0m\u001b[0;34m\u001b[0m\u001b[0;34m\u001b[0m\u001b[0m\n",
      "\u001b[0;32m~/miniforge3/lib/python3.9/site-packages/requests/sessions.py\u001b[0m in \u001b[0;36msend\u001b[0;34m(self, request, **kwargs)\u001b[0m\n\u001b[1;32m    695\u001b[0m \u001b[0;34m\u001b[0m\u001b[0m\n\u001b[1;32m    696\u001b[0m         \u001b[0;32mif\u001b[0m \u001b[0;32mnot\u001b[0m \u001b[0mstream\u001b[0m\u001b[0;34m:\u001b[0m\u001b[0;34m\u001b[0m\u001b[0;34m\u001b[0m\u001b[0m\n\u001b[0;32m--> 697\u001b[0;31m             \u001b[0mr\u001b[0m\u001b[0;34m.\u001b[0m\u001b[0mcontent\u001b[0m\u001b[0;34m\u001b[0m\u001b[0;34m\u001b[0m\u001b[0m\n\u001b[0m\u001b[1;32m    698\u001b[0m \u001b[0;34m\u001b[0m\u001b[0m\n\u001b[1;32m    699\u001b[0m         \u001b[0;32mreturn\u001b[0m \u001b[0mr\u001b[0m\u001b[0;34m\u001b[0m\u001b[0;34m\u001b[0m\u001b[0m\n",
      "\u001b[0;32m~/miniforge3/lib/python3.9/site-packages/requests/models.py\u001b[0m in \u001b[0;36mcontent\u001b[0;34m(self)\u001b[0m\n\u001b[1;32m    829\u001b[0m                 \u001b[0mself\u001b[0m\u001b[0;34m.\u001b[0m\u001b[0m_content\u001b[0m \u001b[0;34m=\u001b[0m \u001b[0;32mNone\u001b[0m\u001b[0;34m\u001b[0m\u001b[0;34m\u001b[0m\u001b[0m\n\u001b[1;32m    830\u001b[0m             \u001b[0;32melse\u001b[0m\u001b[0;34m:\u001b[0m\u001b[0;34m\u001b[0m\u001b[0;34m\u001b[0m\u001b[0m\n\u001b[0;32m--> 831\u001b[0;31m                 \u001b[0mself\u001b[0m\u001b[0;34m.\u001b[0m\u001b[0m_content\u001b[0m \u001b[0;34m=\u001b[0m \u001b[0;34mb''\u001b[0m\u001b[0;34m.\u001b[0m\u001b[0mjoin\u001b[0m\u001b[0;34m(\u001b[0m\u001b[0mself\u001b[0m\u001b[0;34m.\u001b[0m\u001b[0miter_content\u001b[0m\u001b[0;34m(\u001b[0m\u001b[0mCONTENT_CHUNK_SIZE\u001b[0m\u001b[0;34m)\u001b[0m\u001b[0;34m)\u001b[0m \u001b[0;32mor\u001b[0m \u001b[0;34mb''\u001b[0m\u001b[0;34m\u001b[0m\u001b[0;34m\u001b[0m\u001b[0m\n\u001b[0m\u001b[1;32m    832\u001b[0m \u001b[0;34m\u001b[0m\u001b[0m\n\u001b[1;32m    833\u001b[0m         \u001b[0mself\u001b[0m\u001b[0;34m.\u001b[0m\u001b[0m_content_consumed\u001b[0m \u001b[0;34m=\u001b[0m \u001b[0;32mTrue\u001b[0m\u001b[0;34m\u001b[0m\u001b[0;34m\u001b[0m\u001b[0m\n",
      "\u001b[0;32m~/miniforge3/lib/python3.9/site-packages/requests/models.py\u001b[0m in \u001b[0;36mgenerate\u001b[0;34m()\u001b[0m\n\u001b[1;32m    751\u001b[0m             \u001b[0;32mif\u001b[0m \u001b[0mhasattr\u001b[0m\u001b[0;34m(\u001b[0m\u001b[0mself\u001b[0m\u001b[0;34m.\u001b[0m\u001b[0mraw\u001b[0m\u001b[0;34m,\u001b[0m \u001b[0;34m'stream'\u001b[0m\u001b[0;34m)\u001b[0m\u001b[0;34m:\u001b[0m\u001b[0;34m\u001b[0m\u001b[0;34m\u001b[0m\u001b[0m\n\u001b[1;32m    752\u001b[0m                 \u001b[0;32mtry\u001b[0m\u001b[0;34m:\u001b[0m\u001b[0;34m\u001b[0m\u001b[0;34m\u001b[0m\u001b[0m\n\u001b[0;32m--> 753\u001b[0;31m                     \u001b[0;32mfor\u001b[0m \u001b[0mchunk\u001b[0m \u001b[0;32min\u001b[0m \u001b[0mself\u001b[0m\u001b[0;34m.\u001b[0m\u001b[0mraw\u001b[0m\u001b[0;34m.\u001b[0m\u001b[0mstream\u001b[0m\u001b[0;34m(\u001b[0m\u001b[0mchunk_size\u001b[0m\u001b[0;34m,\u001b[0m \u001b[0mdecode_content\u001b[0m\u001b[0;34m=\u001b[0m\u001b[0;32mTrue\u001b[0m\u001b[0;34m)\u001b[0m\u001b[0;34m:\u001b[0m\u001b[0;34m\u001b[0m\u001b[0;34m\u001b[0m\u001b[0m\n\u001b[0m\u001b[1;32m    754\u001b[0m                         \u001b[0;32myield\u001b[0m \u001b[0mchunk\u001b[0m\u001b[0;34m\u001b[0m\u001b[0;34m\u001b[0m\u001b[0m\n\u001b[1;32m    755\u001b[0m                 \u001b[0;32mexcept\u001b[0m \u001b[0mProtocolError\u001b[0m \u001b[0;32mas\u001b[0m \u001b[0me\u001b[0m\u001b[0;34m:\u001b[0m\u001b[0;34m\u001b[0m\u001b[0;34m\u001b[0m\u001b[0m\n",
      "\u001b[0;32m~/miniforge3/lib/python3.9/site-packages/urllib3/response.py\u001b[0m in \u001b[0;36mstream\u001b[0;34m(self, amt, decode_content)\u001b[0m\n\u001b[1;32m    570\u001b[0m         \"\"\"\n\u001b[1;32m    571\u001b[0m         \u001b[0;32mif\u001b[0m \u001b[0mself\u001b[0m\u001b[0;34m.\u001b[0m\u001b[0mchunked\u001b[0m \u001b[0;32mand\u001b[0m \u001b[0mself\u001b[0m\u001b[0;34m.\u001b[0m\u001b[0msupports_chunked_reads\u001b[0m\u001b[0;34m(\u001b[0m\u001b[0;34m)\u001b[0m\u001b[0;34m:\u001b[0m\u001b[0;34m\u001b[0m\u001b[0;34m\u001b[0m\u001b[0m\n\u001b[0;32m--> 572\u001b[0;31m             \u001b[0;32mfor\u001b[0m \u001b[0mline\u001b[0m \u001b[0;32min\u001b[0m \u001b[0mself\u001b[0m\u001b[0;34m.\u001b[0m\u001b[0mread_chunked\u001b[0m\u001b[0;34m(\u001b[0m\u001b[0mamt\u001b[0m\u001b[0;34m,\u001b[0m \u001b[0mdecode_content\u001b[0m\u001b[0;34m=\u001b[0m\u001b[0mdecode_content\u001b[0m\u001b[0;34m)\u001b[0m\u001b[0;34m:\u001b[0m\u001b[0;34m\u001b[0m\u001b[0;34m\u001b[0m\u001b[0m\n\u001b[0m\u001b[1;32m    573\u001b[0m                 \u001b[0;32myield\u001b[0m \u001b[0mline\u001b[0m\u001b[0;34m\u001b[0m\u001b[0;34m\u001b[0m\u001b[0m\n\u001b[1;32m    574\u001b[0m         \u001b[0;32melse\u001b[0m\u001b[0;34m:\u001b[0m\u001b[0;34m\u001b[0m\u001b[0;34m\u001b[0m\u001b[0m\n",
      "\u001b[0;32m~/miniforge3/lib/python3.9/site-packages/urllib3/response.py\u001b[0m in \u001b[0;36mread_chunked\u001b[0;34m(self, amt, decode_content)\u001b[0m\n\u001b[1;32m    765\u001b[0m                 \u001b[0;32mif\u001b[0m \u001b[0mself\u001b[0m\u001b[0;34m.\u001b[0m\u001b[0mchunk_left\u001b[0m \u001b[0;34m==\u001b[0m \u001b[0;36m0\u001b[0m\u001b[0;34m:\u001b[0m\u001b[0;34m\u001b[0m\u001b[0;34m\u001b[0m\u001b[0m\n\u001b[1;32m    766\u001b[0m                     \u001b[0;32mbreak\u001b[0m\u001b[0;34m\u001b[0m\u001b[0;34m\u001b[0m\u001b[0m\n\u001b[0;32m--> 767\u001b[0;31m                 \u001b[0mchunk\u001b[0m \u001b[0;34m=\u001b[0m \u001b[0mself\u001b[0m\u001b[0;34m.\u001b[0m\u001b[0m_handle_chunk\u001b[0m\u001b[0;34m(\u001b[0m\u001b[0mamt\u001b[0m\u001b[0;34m)\u001b[0m\u001b[0;34m\u001b[0m\u001b[0;34m\u001b[0m\u001b[0m\n\u001b[0m\u001b[1;32m    768\u001b[0m                 decoded = self._decode(\n\u001b[1;32m    769\u001b[0m                     \u001b[0mchunk\u001b[0m\u001b[0;34m,\u001b[0m \u001b[0mdecode_content\u001b[0m\u001b[0;34m=\u001b[0m\u001b[0mdecode_content\u001b[0m\u001b[0;34m,\u001b[0m \u001b[0mflush_decoder\u001b[0m\u001b[0;34m=\u001b[0m\u001b[0;32mFalse\u001b[0m\u001b[0;34m\u001b[0m\u001b[0;34m\u001b[0m\u001b[0m\n",
      "\u001b[0;32m~/miniforge3/lib/python3.9/site-packages/urllib3/response.py\u001b[0m in \u001b[0;36m_handle_chunk\u001b[0;34m(self, amt)\u001b[0m\n\u001b[1;32m    709\u001b[0m             \u001b[0mself\u001b[0m\u001b[0;34m.\u001b[0m\u001b[0mchunk_left\u001b[0m \u001b[0;34m=\u001b[0m \u001b[0;32mNone\u001b[0m\u001b[0;34m\u001b[0m\u001b[0;34m\u001b[0m\u001b[0m\n\u001b[1;32m    710\u001b[0m         \u001b[0;32melif\u001b[0m \u001b[0mamt\u001b[0m \u001b[0;34m<\u001b[0m \u001b[0mself\u001b[0m\u001b[0;34m.\u001b[0m\u001b[0mchunk_left\u001b[0m\u001b[0;34m:\u001b[0m\u001b[0;34m\u001b[0m\u001b[0;34m\u001b[0m\u001b[0m\n\u001b[0;32m--> 711\u001b[0;31m             \u001b[0mvalue\u001b[0m \u001b[0;34m=\u001b[0m \u001b[0mself\u001b[0m\u001b[0;34m.\u001b[0m\u001b[0m_fp\u001b[0m\u001b[0;34m.\u001b[0m\u001b[0m_safe_read\u001b[0m\u001b[0;34m(\u001b[0m\u001b[0mamt\u001b[0m\u001b[0;34m)\u001b[0m\u001b[0;34m\u001b[0m\u001b[0;34m\u001b[0m\u001b[0m\n\u001b[0m\u001b[1;32m    712\u001b[0m             \u001b[0mself\u001b[0m\u001b[0;34m.\u001b[0m\u001b[0mchunk_left\u001b[0m \u001b[0;34m=\u001b[0m \u001b[0mself\u001b[0m\u001b[0;34m.\u001b[0m\u001b[0mchunk_left\u001b[0m \u001b[0;34m-\u001b[0m \u001b[0mamt\u001b[0m\u001b[0;34m\u001b[0m\u001b[0;34m\u001b[0m\u001b[0m\n\u001b[1;32m    713\u001b[0m             \u001b[0mreturned_chunk\u001b[0m \u001b[0;34m=\u001b[0m \u001b[0mvalue\u001b[0m\u001b[0;34m\u001b[0m\u001b[0;34m\u001b[0m\u001b[0m\n",
      "\u001b[0;32m~/miniforge3/lib/python3.9/http/client.py\u001b[0m in \u001b[0;36m_safe_read\u001b[0;34m(self, amt)\u001b[0m\n\u001b[1;32m    610\u001b[0m         \u001b[0mIncompleteRead\u001b[0m \u001b[0mexception\u001b[0m \u001b[0mcan\u001b[0m \u001b[0mbe\u001b[0m \u001b[0mused\u001b[0m \u001b[0mto\u001b[0m \u001b[0mdetect\u001b[0m \u001b[0mthe\u001b[0m \u001b[0mproblem\u001b[0m\u001b[0;34m.\u001b[0m\u001b[0;34m\u001b[0m\u001b[0;34m\u001b[0m\u001b[0m\n\u001b[1;32m    611\u001b[0m         \"\"\"\n\u001b[0;32m--> 612\u001b[0;31m         \u001b[0mdata\u001b[0m \u001b[0;34m=\u001b[0m \u001b[0mself\u001b[0m\u001b[0;34m.\u001b[0m\u001b[0mfp\u001b[0m\u001b[0;34m.\u001b[0m\u001b[0mread\u001b[0m\u001b[0;34m(\u001b[0m\u001b[0mamt\u001b[0m\u001b[0;34m)\u001b[0m\u001b[0;34m\u001b[0m\u001b[0;34m\u001b[0m\u001b[0m\n\u001b[0m\u001b[1;32m    613\u001b[0m         \u001b[0;32mif\u001b[0m \u001b[0mlen\u001b[0m\u001b[0;34m(\u001b[0m\u001b[0mdata\u001b[0m\u001b[0;34m)\u001b[0m \u001b[0;34m<\u001b[0m \u001b[0mamt\u001b[0m\u001b[0;34m:\u001b[0m\u001b[0;34m\u001b[0m\u001b[0;34m\u001b[0m\u001b[0m\n\u001b[1;32m    614\u001b[0m             \u001b[0;32mraise\u001b[0m \u001b[0mIncompleteRead\u001b[0m\u001b[0;34m(\u001b[0m\u001b[0mdata\u001b[0m\u001b[0;34m,\u001b[0m \u001b[0mamt\u001b[0m\u001b[0;34m-\u001b[0m\u001b[0mlen\u001b[0m\u001b[0;34m(\u001b[0m\u001b[0mdata\u001b[0m\u001b[0;34m)\u001b[0m\u001b[0;34m)\u001b[0m\u001b[0;34m\u001b[0m\u001b[0;34m\u001b[0m\u001b[0m\n",
      "\u001b[0;32m~/miniforge3/lib/python3.9/socket.py\u001b[0m in \u001b[0;36mreadinto\u001b[0;34m(self, b)\u001b[0m\n\u001b[1;32m    702\u001b[0m         \u001b[0;32mwhile\u001b[0m \u001b[0;32mTrue\u001b[0m\u001b[0;34m:\u001b[0m\u001b[0;34m\u001b[0m\u001b[0;34m\u001b[0m\u001b[0m\n\u001b[1;32m    703\u001b[0m             \u001b[0;32mtry\u001b[0m\u001b[0;34m:\u001b[0m\u001b[0;34m\u001b[0m\u001b[0;34m\u001b[0m\u001b[0m\n\u001b[0;32m--> 704\u001b[0;31m                 \u001b[0;32mreturn\u001b[0m \u001b[0mself\u001b[0m\u001b[0;34m.\u001b[0m\u001b[0m_sock\u001b[0m\u001b[0;34m.\u001b[0m\u001b[0mrecv_into\u001b[0m\u001b[0;34m(\u001b[0m\u001b[0mb\u001b[0m\u001b[0;34m)\u001b[0m\u001b[0;34m\u001b[0m\u001b[0;34m\u001b[0m\u001b[0m\n\u001b[0m\u001b[1;32m    705\u001b[0m             \u001b[0;32mexcept\u001b[0m \u001b[0mtimeout\u001b[0m\u001b[0;34m:\u001b[0m\u001b[0;34m\u001b[0m\u001b[0;34m\u001b[0m\u001b[0m\n\u001b[1;32m    706\u001b[0m                 \u001b[0mself\u001b[0m\u001b[0;34m.\u001b[0m\u001b[0m_timeout_occurred\u001b[0m \u001b[0;34m=\u001b[0m \u001b[0;32mTrue\u001b[0m\u001b[0;34m\u001b[0m\u001b[0;34m\u001b[0m\u001b[0m\n",
      "\u001b[0;32m~/miniforge3/lib/python3.9/ssl.py\u001b[0m in \u001b[0;36mrecv_into\u001b[0;34m(self, buffer, nbytes, flags)\u001b[0m\n\u001b[1;32m   1239\u001b[0m                   \u001b[0;34m\"non-zero flags not allowed in calls to recv_into() on %s\"\u001b[0m \u001b[0;34m%\u001b[0m\u001b[0;34m\u001b[0m\u001b[0;34m\u001b[0m\u001b[0m\n\u001b[1;32m   1240\u001b[0m                   self.__class__)\n\u001b[0;32m-> 1241\u001b[0;31m             \u001b[0;32mreturn\u001b[0m \u001b[0mself\u001b[0m\u001b[0;34m.\u001b[0m\u001b[0mread\u001b[0m\u001b[0;34m(\u001b[0m\u001b[0mnbytes\u001b[0m\u001b[0;34m,\u001b[0m \u001b[0mbuffer\u001b[0m\u001b[0;34m)\u001b[0m\u001b[0;34m\u001b[0m\u001b[0;34m\u001b[0m\u001b[0m\n\u001b[0m\u001b[1;32m   1242\u001b[0m         \u001b[0;32melse\u001b[0m\u001b[0;34m:\u001b[0m\u001b[0;34m\u001b[0m\u001b[0;34m\u001b[0m\u001b[0m\n\u001b[1;32m   1243\u001b[0m             \u001b[0;32mreturn\u001b[0m \u001b[0msuper\u001b[0m\u001b[0;34m(\u001b[0m\u001b[0;34m)\u001b[0m\u001b[0;34m.\u001b[0m\u001b[0mrecv_into\u001b[0m\u001b[0;34m(\u001b[0m\u001b[0mbuffer\u001b[0m\u001b[0;34m,\u001b[0m \u001b[0mnbytes\u001b[0m\u001b[0;34m,\u001b[0m \u001b[0mflags\u001b[0m\u001b[0;34m)\u001b[0m\u001b[0;34m\u001b[0m\u001b[0;34m\u001b[0m\u001b[0m\n",
      "\u001b[0;32m~/miniforge3/lib/python3.9/ssl.py\u001b[0m in \u001b[0;36mread\u001b[0;34m(self, len, buffer)\u001b[0m\n\u001b[1;32m   1097\u001b[0m         \u001b[0;32mtry\u001b[0m\u001b[0;34m:\u001b[0m\u001b[0;34m\u001b[0m\u001b[0;34m\u001b[0m\u001b[0m\n\u001b[1;32m   1098\u001b[0m             \u001b[0;32mif\u001b[0m \u001b[0mbuffer\u001b[0m \u001b[0;32mis\u001b[0m \u001b[0;32mnot\u001b[0m \u001b[0;32mNone\u001b[0m\u001b[0;34m:\u001b[0m\u001b[0;34m\u001b[0m\u001b[0;34m\u001b[0m\u001b[0m\n\u001b[0;32m-> 1099\u001b[0;31m                 \u001b[0;32mreturn\u001b[0m \u001b[0mself\u001b[0m\u001b[0;34m.\u001b[0m\u001b[0m_sslobj\u001b[0m\u001b[0;34m.\u001b[0m\u001b[0mread\u001b[0m\u001b[0;34m(\u001b[0m\u001b[0mlen\u001b[0m\u001b[0;34m,\u001b[0m \u001b[0mbuffer\u001b[0m\u001b[0;34m)\u001b[0m\u001b[0;34m\u001b[0m\u001b[0;34m\u001b[0m\u001b[0m\n\u001b[0m\u001b[1;32m   1100\u001b[0m             \u001b[0;32melse\u001b[0m\u001b[0;34m:\u001b[0m\u001b[0;34m\u001b[0m\u001b[0;34m\u001b[0m\u001b[0m\n\u001b[1;32m   1101\u001b[0m                 \u001b[0;32mreturn\u001b[0m \u001b[0mself\u001b[0m\u001b[0;34m.\u001b[0m\u001b[0m_sslobj\u001b[0m\u001b[0;34m.\u001b[0m\u001b[0mread\u001b[0m\u001b[0;34m(\u001b[0m\u001b[0mlen\u001b[0m\u001b[0;34m)\u001b[0m\u001b[0;34m\u001b[0m\u001b[0;34m\u001b[0m\u001b[0m\n",
      "\u001b[0;31mKeyboardInterrupt\u001b[0m: "
     ]
    }
   ],
   "source": [
    "# Características\n",
    "descricao = {}\n",
    "lst = []\n",
    "for link in dados['link']:\n",
    "    html = requests.get(link, headers={'user-agent':'Mozilla/5.0 (Macintosh; Intel Mac OS X 10_15_7) AppleWebKit/537.36 (KHTML, like Gecko) Chrome/94.0.4606.81 Safari/537.36'})\n",
    "    soup = BeautifulSoup(html.text,'html.parser')\n",
    "    for x in soup.findAll('div',class_='pdp-description-list-item'):\n",
    "        if x.select('li') == []:\n",
    "            keys = str(x.select('dt'))\n",
    "            values = str(x.select('dd'))\n",
    "            descricao[keys] = values\n",
    "        else:\n",
    "            keys = str(x.select('dt'))\n",
    "            values = str(x.select('li'))\n",
    "            descricao[keys] = values\n",
    "    lst.append(descricao.copy())\n",
    "    descricao.clear()\n",
    "descricao = pd.DataFrame(lst)\n",
    "descricao.drop('[<dt>Art. No.</dt>]',1,inplace=True)\n",
    "dados = pd.concat([dados,descricao],axis=1)"
   ]
  },
  {
   "cell_type": "code",
   "execution_count": null,
   "id": "0cec169f",
   "metadata": {
    "ExecuteTime": {
     "end_time": "2021-11-03T12:24:15.497555Z",
     "start_time": "2021-11-03T12:16:44.755Z"
    },
    "hidden": true
   },
   "outputs": [],
   "source": [
    "# Descrição\n",
    "descs = []\n",
    "for link in dados['link']:\n",
    "    html = requests.get(link, headers={'user-agent':'Mozilla/5.0 (Macintosh; Intel Mac OS X 10_15_7) AppleWebKit/537.36 (KHTML, like Gecko) Chrome/94.0.4606.81 Safari/537.36'})\n",
    "    soup = BeautifulSoup(html.text,'html.parser')\n",
    "    desc = soup.find('p',class_='pdp-description-text').get_text()\n",
    "    descs.append(desc)\n",
    "dados['description'] = descs"
   ]
  },
  {
   "cell_type": "code",
   "execution_count": null,
   "id": "e3e5b3c0",
   "metadata": {
    "ExecuteTime": {
     "end_time": "2021-11-03T12:24:15.498175Z",
     "start_time": "2021-11-03T12:16:45.838Z"
    },
    "hidden": true
   },
   "outputs": [],
   "source": [
    "# Preço\n",
    "\n",
    "# Conseguindo um representante para cada id cluster\n",
    "id_representante = []\n",
    "precos = []\n",
    "for c in range(dados.shape[0]):\n",
    "    if c+1 != dados.shape[0]:\n",
    "        if dados['id'][c][:-2] != dados['id'][c+1][:-2]:\n",
    "            id_representante.append(dados['id'][c])\n",
    "    if c+1 == (dados.shape[0]-1):\n",
    "        id_representante.append(dados['id'][c])\n",
    "\n",
    "# Conseguindo o preço de cada representante\n",
    "for representante in id_representante:\n",
    "    link = 'https://www2.hm.com/en_us/productpage.'+ representante +'.html'\n",
    "    html = requests.get(link, headers={'user-agent':'Mozilla/5.0 (Macintosh; Intel Mac OS X 10_15_7) AppleWebKit/537.36 (KHTML, like Gecko) Chrome/94.0.4606.81 Safari/537.36'})\n",
    "    soup = BeautifulSoup(html.text,'html.parser')\n",
    "    preco = soup.find('div',class_='primary-row product-item-price').get_text().split()[0]\n",
    "    precos.append(preco)\n",
    "    \n",
    "# Relacionando o representante com seu grupo e dando a ele um preço\n",
    "df_aux = pd.DataFrame([id_representante,precos]).T\n",
    "df_aux[0] = df_aux[0].apply(lambda x: x[:-2])\n",
    "\n",
    "p = []\n",
    "for c in range(dados.shape[0]):\n",
    "    for x in range(df_aux.shape[0]):\n",
    "        if dados['id'][c][:-2] == df_aux[0][x]:\n",
    "            p.append(df_aux[1][x])\n",
    "dados['price'] = p"
   ]
  },
  {
   "cell_type": "code",
   "execution_count": null,
   "id": "cd0568cb",
   "metadata": {
    "ExecuteTime": {
     "end_time": "2021-11-03T12:24:15.498821Z",
     "start_time": "2021-11-03T12:16:47.740Z"
    },
    "hidden": true
   },
   "outputs": [],
   "source": [
    "dados.to_csv('dados_h&m_v4.csv',index=False)"
   ]
  },
  {
   "cell_type": "markdown",
   "id": "e1a61cb1",
   "metadata": {
    "heading_collapsed": true
   },
   "source": [
    "# Limpeza de Dados"
   ]
  },
  {
   "cell_type": "code",
   "execution_count": 40,
   "id": "f034e519",
   "metadata": {
    "ExecuteTime": {
     "end_time": "2021-11-05T17:07:39.225354Z",
     "start_time": "2021-11-05T17:07:38.835441Z"
    },
    "hidden": true,
    "scrolled": false
   },
   "outputs": [],
   "source": [
    "import pandas as pd\n",
    "import numpy as np\n",
    "import re\n",
    "\n",
    "dados = pd.read_csv('dados_h&m_v4.csv')\n",
    "dados.rename(columns={'[<dt>Fit</dt>]':'fit','[<dt>Composition</dt>]':'composition','[<dt>Size</dt>]':'size','[<dt>More sustainable materials</dt>]':'more sustainable materials','[<dt>Product safety</dt>]':'product safety'},inplace=True)\n",
    "\n",
    "# name\n",
    "dados['name'] = dados['name'].apply(lambda x: x.replace(' ','_').lower())\n",
    "\n",
    "# color\n",
    "dados['color'] = dados['color'].apply(lambda x: x.replace(' ','_').lower())\n",
    "dados['color'] = dados['color'].apply(lambda x: x.replace('-','_').lower())\n",
    "\n",
    "# fit\n",
    "dados['fit'] = dados['fit'].apply(lambda x: (re.search('>(.+)<',x).group(1)))\n",
    "dados['fit'] = dados['fit'].apply(lambda x: x.replace(' ','_').lower())\n",
    "\n",
    "#composition\n",
    "dados['composition'] = dados['composition'].apply(lambda x: (re.search('>(.+)<',x).group(1)))\n",
    "dados['composition'] = dados['composition'].apply(lambda x: x.replace('</li>',''))\n",
    "dados['composition'] = dados['composition'].apply(lambda x: x.replace('<li>',''))\n",
    "for c in range(dados.shape[0]):\n",
    "    try:\n",
    "        dados.loc[c,'composition'] = (re.search('Lining: .+?, (.+)',dados.loc[c,'composition'])).group(1)\n",
    "    except:\n",
    "         dados.loc[c,'composition'] = dados.loc[c,'composition']\n",
    "    try:\n",
    "         dados.loc[c,'composition'] = re.search('(.+), Lining',dados.loc[c,'composition']).group(1)\n",
    "    except:\n",
    "         dados.loc[c,'composition'] = dados.loc[c,'composition']\n",
    "    try:\n",
    "         dados.loc[c,'composition'] = re.search('Pocket lining.+, Shell: (.+)',dados.loc[c,'composition']).group(1)\n",
    "    except:\n",
    "         dados.loc[c,'composition'] = dados.loc[c,'composition']\n",
    "    try:\n",
    "         dados.loc[c,'composition'] = re.search('Shell: (.+), P',dados.loc[c,'composition']).group(1)\n",
    "    except:\n",
    "        dados.loc[c,'composition'] = dados.loc[c,'composition']\n",
    "    try:\n",
    "        dados.loc[c,'composition'] = re.search('(.+), Pocket lining:.+',dados.loc[c,'composition']).group(1)\n",
    "    except:\n",
    "        dados.loc[c,'composition'] = dados.loc[c,'composition']\n",
    "    try:\n",
    "        dados.loc[c,'composition'] = re.search('Pocket:.+, Shell: (.+)',dados.loc[c,'composition']).group(1)\n",
    "    except:\n",
    "        dados.loc[c,'composition'] = dados.loc[c,'composition']\n",
    "    try:\n",
    "        dados.loc[c,'composition'] = re.search('Pocket lining: Polyester 65%, Cotton 35%, (.+)',dados.loc[c,'composition']).group(1)\n",
    "    except:\n",
    "        dados.loc[c,'composition'] = dados.loc[c,'composition']\n",
    "    try:\n",
    "        dados.loc[c,'composition'] = re.search('Pocket lining: .+100%, (.+)',dados.loc[c,'composition']).group(1)\n",
    "    except:\n",
    "        dados.loc[c,'composition'] = dados.loc[c,'composition']\n",
    "    try:\n",
    "        dados.loc[c,'cotton'] = re.search('Cotton (.+?)%',dados.loc[c,'composition']).group(1)\n",
    "    except:\n",
    "        dados.loc[c,'cotton'] = '0'\n",
    "    try:\n",
    "        dados.loc[c,'elastane'] = re.search('Elastane (.+)%',dados.loc[c,'composition']).group(1)\n",
    "    except:\n",
    "        dados.loc[c,'elastane'] = '0'\n",
    "    try:\n",
    "        dados.loc[c,'elasterell-p'] = re.search('Elasterell-P (.+)%,',dados.loc[c,'composition']).group(1)\n",
    "    except:\n",
    "        dados.loc[c,'elasterell-p'] = '0'\n",
    "    try:\n",
    "        dados.loc[c,'polyester1'] = re.search(', Polyester (.+)%, M',dados.loc[c,'composition']).group(1)\n",
    "    except:\n",
    "        dados.loc[c,'polyester1'] = '0'\n",
    "    try:\n",
    "        dados.loc[c,'polyester2'] = re.search(', Polyester (.+)%, V',dados.loc[c,'composition']).group(1)\n",
    "    except:\n",
    "        dados.loc[c,'polyester2'] = '0'\n",
    "    try:\n",
    "        dados.loc[c,'polyester3'] = re.search('Polyester (.+)%,',dados.loc[c,'composition']).group(1)\n",
    "    except:\n",
    "        dados.loc[c,'polyester3'] = '0'\n",
    "    try:\n",
    "        dados.loc[c,'viscose'] = re.search('Viscose (.+)%,',dados.loc[c,'composition']).group(1)\n",
    "    except:\n",
    "        dados.loc[c,'viscose'] = '0'\n",
    "    try:\n",
    "        dados.loc[c,'modal'] = re.search('Modal (.+)%,',dados.loc[c,'composition']).group(1)\n",
    "    except:\n",
    "        dados.loc[c,'modal'] = '0'\n",
    "dados.loc[94,'polyester3'] = '0'\n",
    "dados.loc[171,'polyester3'] = '0'\n",
    "dados['polyester1'] = dados['polyester1'].astype(int)\n",
    "dados['polyester2'] = dados['polyester2'].astype(int)\n",
    "dados['polyester3'] = dados['polyester3'].astype(int)\n",
    "dados['cotton'] = dados['cotton'].astype(int)/100\n",
    "dados['elastane'] = dados['elastane'].astype(int)/100\n",
    "dados['elasterell-p'] = dados['elasterell-p'].astype(int)/100\n",
    "dados['viscose'] = dados['viscose'].astype(int)/100\n",
    "dados['modal'] = dados['modal'].astype(int)/100\n",
    "dados['polyester'] = (((dados[['polyester1','polyester2','polyester3']])).sum(axis=1))/100\n",
    "dados.drop('composition',1,inplace=True)\n",
    "\n",
    "dados.drop(['polyester1','polyester2','polyester3'],1,inplace=True)\n",
    "\n",
    "# product safety\n",
    "dados.drop('product safety',1,inplace=True)\n",
    "\n",
    "# more sustainable materials\n",
    "dados['more sustainable materials'].fillna('No',inplace=True)\n",
    "dados['more sustainable materials'] = dados['more sustainable materials'].apply(lambda x: re.search('>(.+)<',x).group(1) if x!= 'No' else x)\n",
    "dados['more sustainable materials'] = dados['more sustainable materials'].apply(lambda x: x.replace('</li>',''))\n",
    "dados['more sustainable materials'] = dados['more sustainable materials'].apply(lambda x: x.replace('<li>',''))\n",
    "dados['more sustainable materials'] = dados['more sustainable materials'].apply(lambda x: x.replace('Recycled',''))\n",
    "for c in range(dados.shape[0]):\n",
    "    try:\n",
    "        dados.loc[c,'more sustainable materials'] = re.search(' (.+)',dados.loc[c,'more sustainable materials']).group(1)\n",
    "    except:\n",
    "        dados.loc[c,'more sustainable materials'] = dados.loc[c,'more sustainable materials']\n",
    "dados['more sustainable materials'] = dados['more sustainable materials'].apply(lambda x: x.title())\n",
    "dados['more sustainable materials'] = dados['more sustainable materials'].apply(lambda x: x.replace(',  ',', '))\n",
    "dados.rename(columns={'more sustainable materials':'recycled materials'},inplace=True)\n",
    "for c in range(dados.shape[0]):\n",
    "    try:\n",
    "        dados.loc[c,'recycled cotton'] = re.search('Cotton (.+?)%',dados.loc[c,'recycled materials']).group(1)\n",
    "    except:\n",
    "        dados.loc[c,'recycled cotton'] = '0'\n",
    "    try:\n",
    "        dados.loc[c,'recycled polyester'] = re.search('Polyester (.+?)%',dados.loc[c,'recycled materials']).group(1)\n",
    "    except:\n",
    "        dados.loc[c,'recycled polyester'] = '0'\n",
    "dados.drop('recycled materials',1,inplace=True)\n",
    "dados['recycled cotton'] = dados['recycled cotton'].astype('float')/100\n",
    "dados['recycled polyester'] = dados['recycled polyester'].astype('float')/100\n",
    "\n",
    "# size\n",
    "dados.drop('size',1,inplace=True)\n",
    "\n",
    "# price\n",
    "dados['price'] = dados['price'].apply(lambda x: float(x.split('$')[-1]))\n",
    "\n",
    "# id group\n",
    "dados['id_group'] = dados['id'].apply(lambda x: int(str(x)[:7]))\n",
    "\n",
    "dados.rename(columns={'elasterell-p':'elasterell_p','recycled cotton':'recycled_cotton','recycled polyester':'recycled_polyester'},inplace=True)\n",
    "dados.to_csv('dados_h&m_v5.csv',index=False)"
   ]
  },
  {
   "cell_type": "markdown",
   "id": "e23235f2",
   "metadata": {},
   "source": [
    "# Exportando para um Database"
   ]
  },
  {
   "cell_type": "code",
   "execution_count": 1,
   "id": "f2a6964b",
   "metadata": {
    "ExecuteTime": {
     "end_time": "2021-11-05T18:42:06.599865Z",
     "start_time": "2021-11-05T18:42:06.334832Z"
    }
   },
   "outputs": [],
   "source": [
    "import pandas as pd\n",
    "dados = pd.read_csv('dados_h&m_v5.csv')"
   ]
  },
  {
   "cell_type": "code",
   "execution_count": 2,
   "id": "7e12f8f5",
   "metadata": {
    "ExecuteTime": {
     "end_time": "2021-11-05T18:42:06.691159Z",
     "start_time": "2021-11-05T18:42:06.689459Z"
    }
   },
   "outputs": [],
   "source": [
    "# Criando database\n",
    "import sqlite3\n",
    "\n",
    "conn = sqlite3.connect('db_hm.sqlite')"
   ]
  },
  {
   "cell_type": "code",
   "execution_count": 3,
   "id": "58ffa089",
   "metadata": {
    "ExecuteTime": {
     "end_time": "2021-11-05T18:42:07.344986Z",
     "start_time": "2021-11-05T18:42:07.338641Z"
    }
   },
   "outputs": [],
   "source": [
    "# Criando table\n",
    "query = \"\"\" CREATE TABLE hm_products (\n",
    "id                      INTEGER,\n",
    "link                   TEXT,\n",
    "name                   TEXT,\n",
    "color                  TEXT,\n",
    "fit                    TEXT,\n",
    "description            TEXT,\n",
    "price                 REAL,\n",
    "cotton                REAL,\n",
    "elastane              REAL,\n",
    "elasterell_p          REAL,\n",
    "viscose               REAL,\n",
    "modal                 REAL,\n",
    "polyester             REAL,\n",
    "recycled_cotton       REAL,\n",
    "recycled_polyester    REAL,\n",
    "id_group                INTEGER\n",
    ") \"\"\"\n",
    "\n",
    "conn.execute(query)\n",
    "conn.commit()\n",
    "conn.close()"
   ]
  },
  {
   "cell_type": "code",
   "execution_count": 4,
   "id": "e07a27e8",
   "metadata": {
    "ExecuteTime": {
     "end_time": "2021-11-05T18:42:07.990251Z",
     "start_time": "2021-11-05T18:42:07.877864Z"
    }
   },
   "outputs": [],
   "source": [
    "# Exportando os dados para o database\n",
    "from sqlalchemy import create_engine\n",
    "engine = create_engine( 'sqlite:///db_hm.sqlite', echo=False )\n",
    "conn = engine.connect()\n",
    "dados.to_sql('hm_products',conn,index=False,if_exists='append')"
   ]
  },
  {
   "cell_type": "markdown",
   "id": "ae17acd1",
   "metadata": {},
   "source": [
    "# Importando de um Database"
   ]
  },
  {
   "cell_type": "code",
   "execution_count": 5,
   "id": "844c14ac",
   "metadata": {
    "ExecuteTime": {
     "end_time": "2021-11-05T18:42:08.872485Z",
     "start_time": "2021-11-05T18:42:08.868333Z"
    }
   },
   "outputs": [],
   "source": [
    "import pandas as pd\n",
    "import sqlalchemy as sq\n",
    "engine = sq.create_engine('sqlite:///db_hm.sqlite',echo=False)\n",
    "conn = engine.connect()"
   ]
  },
  {
   "cell_type": "code",
   "execution_count": 6,
   "id": "ca3ecd17",
   "metadata": {
    "ExecuteTime": {
     "end_time": "2021-11-05T18:42:09.441198Z",
     "start_time": "2021-11-05T18:42:09.394130Z"
    }
   },
   "outputs": [
    {
     "data": {
      "text/html": [
       "<div>\n",
       "<style scoped>\n",
       "    .dataframe tbody tr th:only-of-type {\n",
       "        vertical-align: middle;\n",
       "    }\n",
       "\n",
       "    .dataframe tbody tr th {\n",
       "        vertical-align: top;\n",
       "    }\n",
       "\n",
       "    .dataframe thead th {\n",
       "        text-align: right;\n",
       "    }\n",
       "</style>\n",
       "<table border=\"1\" class=\"dataframe\">\n",
       "  <thead>\n",
       "    <tr style=\"text-align: right;\">\n",
       "      <th></th>\n",
       "      <th>id</th>\n",
       "      <th>link</th>\n",
       "      <th>name</th>\n",
       "      <th>color</th>\n",
       "      <th>fit</th>\n",
       "      <th>description</th>\n",
       "      <th>price</th>\n",
       "      <th>cotton</th>\n",
       "      <th>elastane</th>\n",
       "      <th>elasterell_p</th>\n",
       "      <th>viscose</th>\n",
       "      <th>modal</th>\n",
       "      <th>polyester</th>\n",
       "      <th>recycled_cotton</th>\n",
       "      <th>recycled_polyester</th>\n",
       "      <th>id_group</th>\n",
       "    </tr>\n",
       "  </thead>\n",
       "  <tbody>\n",
       "    <tr>\n",
       "      <th>0</th>\n",
       "      <td>690449001</td>\n",
       "      <td>https://www2.hm.com/en_us/productpage.06904490...</td>\n",
       "      <td>skinny_jeans</td>\n",
       "      <td>light_denim_blue/trashed</td>\n",
       "      <td>skinny_fit</td>\n",
       "      <td>5-pocket jeans in washed stretch denim with he...</td>\n",
       "      <td>39.99</td>\n",
       "      <td>0.99</td>\n",
       "      <td>0.01</td>\n",
       "      <td>0.0</td>\n",
       "      <td>0.0</td>\n",
       "      <td>0.0</td>\n",
       "      <td>0.0</td>\n",
       "      <td>0.0</td>\n",
       "      <td>0.0</td>\n",
       "      <td>6904490</td>\n",
       "    </tr>\n",
       "    <tr>\n",
       "      <th>1</th>\n",
       "      <td>690449002</td>\n",
       "      <td>https://www2.hm.com/en_us/productpage.06904490...</td>\n",
       "      <td>skinny_jeans</td>\n",
       "      <td>denim_blue</td>\n",
       "      <td>skinny_fit</td>\n",
       "      <td>5-pocket jeans in washed stretch denim with he...</td>\n",
       "      <td>39.99</td>\n",
       "      <td>0.98</td>\n",
       "      <td>0.02</td>\n",
       "      <td>0.0</td>\n",
       "      <td>0.0</td>\n",
       "      <td>0.0</td>\n",
       "      <td>0.0</td>\n",
       "      <td>0.0</td>\n",
       "      <td>0.0</td>\n",
       "      <td>6904490</td>\n",
       "    </tr>\n",
       "    <tr>\n",
       "      <th>2</th>\n",
       "      <td>690449006</td>\n",
       "      <td>https://www2.hm.com/en_us/productpage.06904490...</td>\n",
       "      <td>skinny_jeans</td>\n",
       "      <td>black/washed</td>\n",
       "      <td>skinny_fit</td>\n",
       "      <td>5-pocket jeans in washed stretch denim with he...</td>\n",
       "      <td>39.99</td>\n",
       "      <td>0.98</td>\n",
       "      <td>0.02</td>\n",
       "      <td>0.0</td>\n",
       "      <td>0.0</td>\n",
       "      <td>0.0</td>\n",
       "      <td>0.0</td>\n",
       "      <td>0.0</td>\n",
       "      <td>0.0</td>\n",
       "      <td>6904490</td>\n",
       "    </tr>\n",
       "    <tr>\n",
       "      <th>3</th>\n",
       "      <td>690449007</td>\n",
       "      <td>https://www2.hm.com/en_us/productpage.06904490...</td>\n",
       "      <td>skinny_jeans</td>\n",
       "      <td>light_denim_blue</td>\n",
       "      <td>skinny_fit</td>\n",
       "      <td>5-pocket jeans in washed stretch denim with he...</td>\n",
       "      <td>39.99</td>\n",
       "      <td>0.98</td>\n",
       "      <td>0.02</td>\n",
       "      <td>0.0</td>\n",
       "      <td>0.0</td>\n",
       "      <td>0.0</td>\n",
       "      <td>0.0</td>\n",
       "      <td>0.0</td>\n",
       "      <td>0.0</td>\n",
       "      <td>6904490</td>\n",
       "    </tr>\n",
       "    <tr>\n",
       "      <th>4</th>\n",
       "      <td>690449009</td>\n",
       "      <td>https://www2.hm.com/en_us/productpage.06904490...</td>\n",
       "      <td>skinny_jeans</td>\n",
       "      <td>black_washed_out</td>\n",
       "      <td>skinny_fit</td>\n",
       "      <td>5-pocket jeans in washed stretch denim with he...</td>\n",
       "      <td>39.99</td>\n",
       "      <td>0.99</td>\n",
       "      <td>0.01</td>\n",
       "      <td>0.0</td>\n",
       "      <td>0.0</td>\n",
       "      <td>0.0</td>\n",
       "      <td>0.0</td>\n",
       "      <td>0.0</td>\n",
       "      <td>0.0</td>\n",
       "      <td>6904490</td>\n",
       "    </tr>\n",
       "    <tr>\n",
       "      <th>...</th>\n",
       "      <td>...</td>\n",
       "      <td>...</td>\n",
       "      <td>...</td>\n",
       "      <td>...</td>\n",
       "      <td>...</td>\n",
       "      <td>...</td>\n",
       "      <td>...</td>\n",
       "      <td>...</td>\n",
       "      <td>...</td>\n",
       "      <td>...</td>\n",
       "      <td>...</td>\n",
       "      <td>...</td>\n",
       "      <td>...</td>\n",
       "      <td>...</td>\n",
       "      <td>...</td>\n",
       "      <td>...</td>\n",
       "    </tr>\n",
       "    <tr>\n",
       "      <th>187</th>\n",
       "      <td>865734001</td>\n",
       "      <td>https://www2.hm.com/en_us/productpage.08657340...</td>\n",
       "      <td>relaxed_tapered_pull-on_jeans</td>\n",
       "      <td>light_denim_blue</td>\n",
       "      <td>relaxed_fit</td>\n",
       "      <td>Ankle-length, 5-pocket jeans in thick cotton d...</td>\n",
       "      <td>22.99</td>\n",
       "      <td>1.00</td>\n",
       "      <td>0.00</td>\n",
       "      <td>0.0</td>\n",
       "      <td>0.0</td>\n",
       "      <td>0.0</td>\n",
       "      <td>0.0</td>\n",
       "      <td>0.0</td>\n",
       "      <td>0.0</td>\n",
       "      <td>8657340</td>\n",
       "    </tr>\n",
       "    <tr>\n",
       "      <th>188</th>\n",
       "      <td>865734002</td>\n",
       "      <td>https://www2.hm.com/en_us/productpage.08657340...</td>\n",
       "      <td>relaxed_tapered_pull-on_jeans</td>\n",
       "      <td>denim_blue</td>\n",
       "      <td>relaxed_fit</td>\n",
       "      <td>Ankle-length, 5-pocket jeans in thick cotton d...</td>\n",
       "      <td>22.99</td>\n",
       "      <td>1.00</td>\n",
       "      <td>0.00</td>\n",
       "      <td>0.0</td>\n",
       "      <td>0.0</td>\n",
       "      <td>0.0</td>\n",
       "      <td>0.0</td>\n",
       "      <td>0.2</td>\n",
       "      <td>0.0</td>\n",
       "      <td>8657340</td>\n",
       "    </tr>\n",
       "    <tr>\n",
       "      <th>189</th>\n",
       "      <td>865734006</td>\n",
       "      <td>https://www2.hm.com/en_us/productpage.08657340...</td>\n",
       "      <td>relaxed_tapered_pull-on_jeans</td>\n",
       "      <td>gray</td>\n",
       "      <td>relaxed_fit</td>\n",
       "      <td>Ankle-length, 5-pocket jeans in thick cotton d...</td>\n",
       "      <td>22.99</td>\n",
       "      <td>1.00</td>\n",
       "      <td>0.00</td>\n",
       "      <td>0.0</td>\n",
       "      <td>0.0</td>\n",
       "      <td>0.0</td>\n",
       "      <td>0.0</td>\n",
       "      <td>0.0</td>\n",
       "      <td>0.0</td>\n",
       "      <td>8657340</td>\n",
       "    </tr>\n",
       "    <tr>\n",
       "      <th>190</th>\n",
       "      <td>865734007</td>\n",
       "      <td>https://www2.hm.com/en_us/productpage.08657340...</td>\n",
       "      <td>relaxed_tapered_pull-on_jeans</td>\n",
       "      <td>pale_denim_blue</td>\n",
       "      <td>relaxed_fit</td>\n",
       "      <td>Ankle-length, 5-pocket jeans in thick cotton d...</td>\n",
       "      <td>22.99</td>\n",
       "      <td>1.00</td>\n",
       "      <td>0.00</td>\n",
       "      <td>0.0</td>\n",
       "      <td>0.0</td>\n",
       "      <td>0.0</td>\n",
       "      <td>0.0</td>\n",
       "      <td>0.2</td>\n",
       "      <td>0.0</td>\n",
       "      <td>8657340</td>\n",
       "    </tr>\n",
       "    <tr>\n",
       "      <th>191</th>\n",
       "      <td>865734005</td>\n",
       "      <td>https://www2.hm.com/en_us/productpage.08657340...</td>\n",
       "      <td>relaxed_tapered_pull-on_jeans</td>\n",
       "      <td>light_denim_blue</td>\n",
       "      <td>relaxed_fit</td>\n",
       "      <td>Ankle-length, 5-pocket jeans in thick cotton d...</td>\n",
       "      <td>22.99</td>\n",
       "      <td>1.00</td>\n",
       "      <td>0.00</td>\n",
       "      <td>0.0</td>\n",
       "      <td>0.0</td>\n",
       "      <td>0.0</td>\n",
       "      <td>0.0</td>\n",
       "      <td>0.2</td>\n",
       "      <td>0.0</td>\n",
       "      <td>8657340</td>\n",
       "    </tr>\n",
       "  </tbody>\n",
       "</table>\n",
       "<p>192 rows × 16 columns</p>\n",
       "</div>"
      ],
      "text/plain": [
       "            id                                               link  \\\n",
       "0    690449001  https://www2.hm.com/en_us/productpage.06904490...   \n",
       "1    690449002  https://www2.hm.com/en_us/productpage.06904490...   \n",
       "2    690449006  https://www2.hm.com/en_us/productpage.06904490...   \n",
       "3    690449007  https://www2.hm.com/en_us/productpage.06904490...   \n",
       "4    690449009  https://www2.hm.com/en_us/productpage.06904490...   \n",
       "..         ...                                                ...   \n",
       "187  865734001  https://www2.hm.com/en_us/productpage.08657340...   \n",
       "188  865734002  https://www2.hm.com/en_us/productpage.08657340...   \n",
       "189  865734006  https://www2.hm.com/en_us/productpage.08657340...   \n",
       "190  865734007  https://www2.hm.com/en_us/productpage.08657340...   \n",
       "191  865734005  https://www2.hm.com/en_us/productpage.08657340...   \n",
       "\n",
       "                              name                     color          fit  \\\n",
       "0                     skinny_jeans  light_denim_blue/trashed   skinny_fit   \n",
       "1                     skinny_jeans                denim_blue   skinny_fit   \n",
       "2                     skinny_jeans              black/washed   skinny_fit   \n",
       "3                     skinny_jeans          light_denim_blue   skinny_fit   \n",
       "4                     skinny_jeans          black_washed_out   skinny_fit   \n",
       "..                             ...                       ...          ...   \n",
       "187  relaxed_tapered_pull-on_jeans          light_denim_blue  relaxed_fit   \n",
       "188  relaxed_tapered_pull-on_jeans                denim_blue  relaxed_fit   \n",
       "189  relaxed_tapered_pull-on_jeans                      gray  relaxed_fit   \n",
       "190  relaxed_tapered_pull-on_jeans           pale_denim_blue  relaxed_fit   \n",
       "191  relaxed_tapered_pull-on_jeans          light_denim_blue  relaxed_fit   \n",
       "\n",
       "                                           description  price  cotton  \\\n",
       "0    5-pocket jeans in washed stretch denim with he...  39.99    0.99   \n",
       "1    5-pocket jeans in washed stretch denim with he...  39.99    0.98   \n",
       "2    5-pocket jeans in washed stretch denim with he...  39.99    0.98   \n",
       "3    5-pocket jeans in washed stretch denim with he...  39.99    0.98   \n",
       "4    5-pocket jeans in washed stretch denim with he...  39.99    0.99   \n",
       "..                                                 ...    ...     ...   \n",
       "187  Ankle-length, 5-pocket jeans in thick cotton d...  22.99    1.00   \n",
       "188  Ankle-length, 5-pocket jeans in thick cotton d...  22.99    1.00   \n",
       "189  Ankle-length, 5-pocket jeans in thick cotton d...  22.99    1.00   \n",
       "190  Ankle-length, 5-pocket jeans in thick cotton d...  22.99    1.00   \n",
       "191  Ankle-length, 5-pocket jeans in thick cotton d...  22.99    1.00   \n",
       "\n",
       "     elastane  elasterell_p  viscose  modal  polyester  recycled_cotton  \\\n",
       "0        0.01           0.0      0.0    0.0        0.0              0.0   \n",
       "1        0.02           0.0      0.0    0.0        0.0              0.0   \n",
       "2        0.02           0.0      0.0    0.0        0.0              0.0   \n",
       "3        0.02           0.0      0.0    0.0        0.0              0.0   \n",
       "4        0.01           0.0      0.0    0.0        0.0              0.0   \n",
       "..        ...           ...      ...    ...        ...              ...   \n",
       "187      0.00           0.0      0.0    0.0        0.0              0.0   \n",
       "188      0.00           0.0      0.0    0.0        0.0              0.2   \n",
       "189      0.00           0.0      0.0    0.0        0.0              0.0   \n",
       "190      0.00           0.0      0.0    0.0        0.0              0.2   \n",
       "191      0.00           0.0      0.0    0.0        0.0              0.2   \n",
       "\n",
       "     recycled_polyester  id_group  \n",
       "0                   0.0   6904490  \n",
       "1                   0.0   6904490  \n",
       "2                   0.0   6904490  \n",
       "3                   0.0   6904490  \n",
       "4                   0.0   6904490  \n",
       "..                  ...       ...  \n",
       "187                 0.0   8657340  \n",
       "188                 0.0   8657340  \n",
       "189                 0.0   8657340  \n",
       "190                 0.0   8657340  \n",
       "191                 0.0   8657340  \n",
       "\n",
       "[192 rows x 16 columns]"
      ]
     },
     "execution_count": 6,
     "metadata": {},
     "output_type": "execute_result"
    }
   ],
   "source": [
    "dados = pd.read_sql_table('hm_products',conn)\n",
    "dados"
   ]
  },
  {
   "cell_type": "code",
   "execution_count": null,
   "id": "2961ab31",
   "metadata": {},
   "outputs": [],
   "source": []
  }
 ],
 "metadata": {
  "kernelspec": {
   "display_name": "Python 3",
   "language": "python",
   "name": "python3"
  },
  "language_info": {
   "codemirror_mode": {
    "name": "ipython",
    "version": 3
   },
   "file_extension": ".py",
   "mimetype": "text/x-python",
   "name": "python",
   "nbconvert_exporter": "python",
   "pygments_lexer": "ipython3",
   "version": "3.9.2"
  }
 },
 "nbformat": 4,
 "nbformat_minor": 5
}
